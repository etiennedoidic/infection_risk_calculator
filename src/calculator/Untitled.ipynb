{
 "cells": [
  {
   "cell_type": "code",
   "execution_count": 1,
   "metadata": {},
   "outputs": [],
   "source": [
    "import calculator"
   ]
  },
  {
   "cell_type": "code",
   "execution_count": 7,
   "metadata": {},
   "outputs": [],
   "source": [
    "assumptions = {\n",
    "\"wet_asl_d\": 5,\n",
    "\"virus_life\": 1.7,\n",
    "\"hi_viral_load\": 500000000,\n",
    "\"si_viral_load\": 5000000000,\n",
    "\"deposition_prob\": 0.5,\n",
    "\"cv\": 1e9,\n",
    "\"ci\": 0.02,\n",
    "\"IR\": {\"resting\": 0.49,\n",
    "       \"standing\": 0.54,\n",
    "       \"light_exercise\": 1.38,\n",
    "       \"moderate_exercise\": 2.35,\n",
    "       \"heavy_exercise\": 3.30},\n",
    "\"droplet_conc\": {\n",
    "                \"speaking\": {\".8μm\": 0.4935,\"1.8μm\": 0.1035, \"3.5μm\": 0.073, \"5.5μm\": 0.035},\n",
    "                \"counting\":  \n",
    "                            {\".8μm\": 0.236, \"1.8μm\": 0.068, \"3.5μm\": 0.007, \"5.5μm\": 0.011},\n",
    "                \"whispering\":\n",
    "                            {\".8μm\": 0.110, \"1.8μm\": 0.014, \"3.5μm\": 0.004, \"5.5μm\": 0.002},\n",
    "                \"singing\":\n",
    "                            {\".8μm\": 0.751, \"1.8μm\": 0.139, \"3.5μm\": 0.139, \"5.5μm\": 0.059},\n",
    "                \"breathing\":\n",
    "                            {\".8μm\": 0.084, \"1.8μm\": 0.009, \"3.5μm\": 0.003, \"5.5μm\": 0.002}},\n",
    "\"droplet_vol\": {\".8μm\": 0.26808257310632905, \"1.8μm\": 3.053628059289279, \"3.5μm\": 22.44929750377706, \"5.5μm\": 87.11374629016697},\n",
    "\"pass_vent_rate\" : 0.35,\n",
    "\"deposition_rate\" : 0.24,\n",
    "\"viral_inactivation\" : 0.63,\n",
    "\"initial_quanta\" : 0,\n",
    "\"viral_load_sptm\" : 1000000000\n",
    "}"
   ]
  },
  {
   "cell_type": "code",
   "execution_count": 2,
   "metadata": {},
   "outputs": [
    {
     "ename": "TypeError",
     "evalue": "infection_risk() missing 2 required positional arguments: 'var' and 'room_data_path'",
     "output_type": "error",
     "traceback": [
      "\u001b[1;31m---------------------------------------------------------------------------\u001b[0m",
      "\u001b[1;31mTypeError\u001b[0m                                 Traceback (most recent call last)",
      "\u001b[1;32m<ipython-input-2-ad9335adee51>\u001b[0m in \u001b[0;36m<module>\u001b[1;34m\u001b[0m\n\u001b[1;32m----> 1\u001b[1;33m \u001b[0mcalculator\u001b[0m\u001b[1;33m.\u001b[0m\u001b[0minfection_risk\u001b[0m\u001b[1;33m(\u001b[0m\u001b[1;36m1.25\u001b[0m\u001b[1;33m,\u001b[0m \u001b[1;34m'CENTER 101'\u001b[0m\u001b[1;33m,\u001b[0m \u001b[1;36m50\u001b[0m\u001b[1;33m,\u001b[0m \u001b[1;34m'resting'\u001b[0m\u001b[1;33m,\u001b[0m \u001b[1;34m'speaking'\u001b[0m\u001b[1;33m)\u001b[0m\u001b[1;33m\u001b[0m\u001b[1;33m\u001b[0m\u001b[0m\n\u001b[0m",
      "\u001b[1;31mTypeError\u001b[0m: infection_risk() missing 2 required positional arguments: 'var' and 'room_data_path'"
     ]
    }
   ],
   "source": [
    "calculator.infection_risk(1.25, 'CENTER 101', 50, 'resting', 'speaking', var = assumptions, room_data_path = )"
   ]
  }
 ],
 "metadata": {
  "kernelspec": {
   "display_name": "Python 3",
   "language": "python",
   "name": "python3"
  },
  "language_info": {
   "codemirror_mode": {
    "name": "ipython",
    "version": 3
   },
   "file_extension": ".py",
   "mimetype": "text/x-python",
   "name": "python",
   "nbconvert_exporter": "python",
   "pygments_lexer": "ipython3",
   "version": "3.7.6"
  }
 },
 "nbformat": 4,
 "nbformat_minor": 4
}
