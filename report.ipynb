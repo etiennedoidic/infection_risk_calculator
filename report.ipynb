{
 "cells": [
  {
   "cell_type": "markdown",
   "metadata": {},
   "source": [
    "## Infection Risk Calculator Walkthrough"
   ]
  },
  {
   "cell_type": "markdown",
   "metadata": {},
   "source": [
    "In this notebook we will be going over how this calculator works and the assumptions made to calculate the risk of infection for indoor environments.\n",
    "\n",
    "For this walkthrough our subject room will be Center Hall Room 101, a lecture hall at UC San Diego."
   ]
  },
  {
   "cell_type": "code",
   "execution_count": 1,
   "metadata": {},
   "outputs": [],
   "source": [
    "#Imports and numbers\n",
    "import random\n",
    "import numpy as np\n",
    "import matplotlib.pyplot as plt\n",
    "import scipy.stats as ss\n",
    "from scipy.stats import truncnorm\n",
    "import json\n",
    "from IPython.display import Image\n",
    "import pandas as pd\n",
    "from scipy.integrate import quad\n",
    "import sys\n",
    "\n",
    "# insert at 1, 0 is the script path (or '' in REPL)\n",
    "from src.calculator.calculator import *\n",
    "\n",
    "\n",
    "MINUTES_IN_HOUR = 60\n",
    "SECONDS_IN_MINUTE = 60\n",
    "SECONDS_IN_HOUR = 3600\n",
    "FEET_TO_METERS = 0.3048\n",
    "SQ_FT_TO_SQ_M = 0.092903\n",
    "CUBIC_FT_TO_METERS = 0.0283168\n",
    "CUBIC_CM_TO_METERS = 1e-6\n",
    "CUBIC_μM_TO_CUBIC_CM = 1e-12\n",
    "CUBIC_M_TO_ML = 1e6"
   ]
  },
  {
   "cell_type": "markdown",
   "metadata": {},
   "source": [
    "Here is where users can test out different parameters in order to get different results.\n",
    "It has been a challenge thus far to aquire accurate building data so we are limited to the manually inputted dataset located in 'notebooks/data/room_data.csv' but hopefully this gives an idea of what kind of building data are accepted by this calculator.\n",
    "\n",
    "In the future we hope to integrate this calculator with more automated systems of data retrieval such as real-time infection rates using web-mining, and querying building data directly from building systems using Brick and Metasys, for example.\n",
    "\n",
    "The default example calculates the infection risk of a classroom of students in Center Hall 101, a building at UC San Diego.\n",
    "This cell contains the only parameters that should be changed."
   ]
  },
  {
   "cell_type": "code",
   "execution_count": 2,
   "metadata": {},
   "outputs": [],
   "source": [
    "#--------User Parameters----------------\n",
    "#Number of occupants\n",
    "#Room ID\n",
    "room_id = 'CENTER 101'\n",
    "#50 occupants is the reduced COVID-19 capacity.\n",
    "n_occupants = 50 \n",
    "#Duration in room in hours\n",
    "t = 1.25\n",
    "#Activity\n",
    "#For our experiment we will assume the occupants are resting (sitting)\n",
    "activities = ['resting', 'light_exercise', 'moderate_exercise', 'heavy_exercise']\n",
    "activity = activities[0]\n",
    "\n",
    "#Vocal Activity \n",
    "#For our experiment we will assume the occupants are whispering, or speaking softly.\n",
    "expiratory_activities = ['speaking', 'whispering', 'singing', 'breathing']\n",
    "expiratory_activity = expiratory_activities[0]"
   ]
  },
  {
   "cell_type": "code",
   "execution_count": null,
   "metadata": {},
   "outputs": [],
   "source": []
  },
  {
   "cell_type": "code",
   "execution_count": 5,
   "metadata": {},
   "outputs": [],
   "source": [
    "with open('config/assumptions.json') as f:\n",
    "    assumptions = json.load(f)"
   ]
  },
  {
   "cell_type": "code",
   "execution_count": 8,
   "metadata": {},
   "outputs": [
    {
     "data": {
      "text/plain": [
       "50.33406510058064"
      ]
     },
     "execution_count": 8,
     "metadata": {},
     "output_type": "execute_result"
    }
   ],
   "source": [
    "get_quanta_emmission_rate(assumptions, activity, expiratory_activity)"
   ]
  },
  {
   "cell_type": "code",
   "execution_count": 15,
   "metadata": {},
   "outputs": [
    {
     "data": {
      "text/plain": [
       "2.9171528588098017"
      ]
     },
     "execution_count": 15,
     "metadata": {},
     "output_type": "execute_result"
    }
   ],
   "source": [
    "get_air_changes_per_hour(3500, 71988)"
   ]
  },
  {
   "cell_type": "code",
   "execution_count": 13,
   "metadata": {},
   "outputs": [
    {
     "data": {
      "text/plain": [
       "{'room_area': 3428,\n",
       " 'room_hght': 21.0,\n",
       " 'cfm_range': [3500, 7000],\n",
       " 'windows': nan,\n",
       " 'room_volume': 71988.0,\n",
       " 'room_volume_m': 0.071988}"
      ]
     },
     "execution_count": 13,
     "metadata": {},
     "output_type": "execute_result"
    }
   ],
   "source": [
    "get_room_data(\"src/data/room_data.csv\", 'CENTER 101')"
   ]
  },
  {
   "cell_type": "code",
   "execution_count": 16,
   "metadata": {},
   "outputs": [
    {
     "name": "stdout",
     "output_type": "stream",
     "text": [
      "The resulting risk of infection is 100.0%\n",
      "It is predicted that 1.0 x 50 = 50.0 susceptible occupants will be infected\n"
     ]
    },
    {
     "data": {
      "text/plain": [
       "1.0"
      ]
     },
     "execution_count": 16,
     "metadata": {},
     "output_type": "execute_result"
    }
   ],
   "source": [
    "infection_risk(1.25, room_id, n_occupants, activity, expiratory_activity, assumptions, \"src/data/room_data.csv\")"
   ]
  },
  {
   "cell_type": "markdown",
   "metadata": {},
   "source": [
    "Below are parameters we hope to incorporate in future versions of this calculator"
   ]
  },
  {
   "cell_type": "code",
   "execution_count": null,
   "metadata": {},
   "outputs": [],
   "source": [
    "#Mask efficacy\n",
    "mask = {'none': 0,\n",
    "        'average': .7,\n",
    "        'high': .95}\n",
    "mask_efficacy = mask['average']\n",
    "\n",
    "#Speaker to Breathing Ratio (Default 1 to n for lecture with no discussion)\n",
    "speaker_to_breathing_ratio = 1/n_occupants\n",
    "\n",
    "#Social Distancing\n",
    "social_distancing = True\n",
    "#infection rate"
   ]
  },
  {
   "cell_type": "markdown",
   "metadata": {},
   "source": [
    "Below, we read in room parameters from a dataframe containing data for various rooms on the UC San Diego campus."
   ]
  },
  {
   "cell_type": "code",
   "execution_count": null,
   "metadata": {},
   "outputs": [],
   "source": []
  },
  {
   "cell_type": "code",
   "execution_count": null,
   "metadata": {},
   "outputs": [],
   "source": [
    "#Building Parameters\n",
    "room_table = pd.read_csv('data/room_data.csv')\n",
    "#Room Area in square ft.\n",
    "room_area = room_table.loc[room_table['Room'] == room_id]['Area'].item()\n",
    "#Room Height (Center 101 has a slopes downwards so we are calculating average for height) in ft.\n",
    "#impute null values with average ceiling height of 10 ft\n",
    "room_hght = room_table.loc[room_table['Room'] == room_id]['Height'].item()\n",
    "if room_hght == 'nan':\n",
    "    room_hght = 10\n",
    "#Passive ventilation rate Standard: 0.35 ACH Range: 0–1 ACH\n",
    "#Average assumed to be .35 based on survey of research\n",
    "#Source: https://www.aivc.org/sites/default/files/members_area/medias/pdf/Airbase/airbase_00250.pdf, \n",
    "#        https://doi.org/10.1016/j.buildenv.2011.12.017\n",
    "pass_vent_rate = .35\n",
    "#CFM range\n",
    "cfm_range = list(map(int, room_table.loc[room_table['Room'] == room_id]['VAV'].item().split(',')))\n",
    "#Windows\n",
    "windows = room_table.loc[room_table['Room'] == room_id]['Windows'].item()\n",
    "\n",
    "##To calculate infection rate we will aggregate the past week of testing for UC San Diego (last updated: 12/10/20)\n",
    "#Source: https://returntolearn.ucsd.edu/dashboard/index.html\n",
    "infection_rate = (2 + 11 + 10+ 3 + 7 + 10 + 12 + 5)/(20 + 1385 + 1375 + 286 + 1332 + 1414 + 944 + 1244)"
   ]
  },
  {
   "cell_type": "code",
   "execution_count": null,
   "metadata": {},
   "outputs": [],
   "source": [
    "#Helper Functions\n",
    "\n",
    "def get_air_changes_per_hour(cfm, room_volume):\n",
    "    if str(cfm) == 'nan':\n",
    "        #impute unknown cfm with arbitrary cfm\n",
    "        print('VAV unknown. Imputed with arbitrary VAV of 800 CFM')\n",
    "        cfm = 800\n",
    "    return (cfm * 60) / room_volume\n",
    "\n",
    "def get_room_data(filepath):\n",
    "    room_table = pd.read_csv(filepath)\n",
    "    room_dic = {}\n",
    "    #Room Area in square ft.\n",
    "    room_dic['room_area'] = room_table.loc[room_table['Room'] == room_id]['Area'].item()\n",
    "    \n",
    "    #Room Height. Average room height of 10 ft is chosen if nan\n",
    "    room_hght = room_table.loc[room_table['Room'] == room_id]['Height'].item()\n",
    "    if room_hght == 'nan':\n",
    "        print(room_id + ' Room height not found. Average room height of 10 ft imputed')\n",
    "        room_hght = 10\n",
    "    room_dic['room_hght'] = room_hght\n",
    "    \n",
    "    #CFM range. If no CFM is provided min is chosen by default\n",
    "    room_dic['cfm_range'] = list(map(int, room_table.loc[room_table['Room'] == room_id]['VAV'].item().split(',')))\n",
    "    \n",
    "    #Windows\n",
    "    room_dic['windows'] = room_table.loc[room_table['Room'] == room_id]['Windows'].item()\n",
    "    \n",
    "    #V is volume of room\n",
    "    room_dic['room_volume'] = room_dic['room_area'] * room_hght\n",
    "    #Unit Conversion\n",
    "    room_dic['room_volume_m'] = room_dic['room_area'] * room_hght * CUBIC_FT_TO_METERS\n",
    "    \n",
    "    return room_dic\n",
    "\n",
    "droplet_vol =  {'.8μm': 0.26808257310632905, '1.8μm': 3.053628059289279, '3.5μm': 22.44929750377706, '5.5μm': 87.11374629016697}\n",
    "\n",
    "def get_quanta_emmission_rate(cv, ci, IR, Dc, Dv = droplet_vol):\n",
    "    #Convert droplet volume from cubic micrometers to centimeters\n",
    "    summation = sum([Dc['.8μm'] * (Dv['.8μm'] * CUBIC_μM_TO_CUBIC_CM),\n",
    "                     Dc['1.8μm'] * (Dv['1.8μm'] * CUBIC_μM_TO_CUBIC_CM),\n",
    "                     Dc['3.5μm'] * (Dv['3.5μm'] * CUBIC_μM_TO_CUBIC_CM),\n",
    "                     Dc['5.5μm'] * (Dv['5.5μm'] * CUBIC_μM_TO_CUBIC_CM)])\n",
    "    #Convert IR from cubic meters to mililiter\n",
    "    return cv * ci * (IR * CUBIC_M_TO_ML) * summation\n"
   ]
  },
  {
   "cell_type": "code",
   "execution_count": null,
   "metadata": {},
   "outputs": [],
   "source": [
    "get_room_data('data/room_data.csv')"
   ]
  },
  {
   "cell_type": "markdown",
   "metadata": {},
   "source": [
    "To calculate the risk of infection in a given room, the emmission rate of quanta is needed. A quantum is defined as the viral load i.e. the dose of airborne droplet nuclei required to cause infection in 63% of persons. \n",
    "The emmission rate is caclulated with the following formula:\n",
    "![title](images/formula1.1.png)\n",
    "\n",
    "[Source](https://doi.org/10.1016/j.envint.2020.105794)"
   ]
  },
  {
   "cell_type": "markdown",
   "metadata": {},
   "source": [
    "Cv corresponds to the viral load in the sputum (i.e. spit) of the infected person, expressed in RNA copies per mililiter. The viral load in sputum of an infected person varies and is dependent on the stage of infection [[1]](https://doi.org/10.1186/s13054-020-02893-8).\n",
    "\n",
    "A range of 1e5 - 1e9 RNA copies per mililiter for viral load in the sputum is determined but for this experiment we will choose the maximum viral load to simulate the worst case scenario for infection spread [[2]](https://doi.org/10.1016/j.jinf.2020.06.067).\n",
    "\n",
    "Ci is conversion factor defined as the ratio between one infectious quantum and the infectious dose expressed in viral RNA copies, expressed in quanta per RNA copies. A survey of Ci's indicates a range of .01 to .1 but finally a ci of .02 was selected to reflect the average value of the infectious doses reported in [Watanabe et al. 2010](https://onlinelibrary.wiley.com/doi/full/10.1111/j.1539-6924.2010.01427.x)\n",
    "\n",
    "Inhalation Rate (IR) is the product of breathing rate and tidal volume. IR is dependent on the activity of the infected subject. The following values were chosen from [Adams 1993](https://ww2.arb.ca.gov/sites/default/files/classic//research/apr/past/a033-205.pdf)\n"
   ]
  },
  {
   "cell_type": "code",
   "execution_count": null,
   "metadata": {},
   "outputs": [],
   "source": [
    "#Cv or viral load in sputum is in RNA copies per mL.\n",
    "viral_load_sptm_range = range(5, 10)\n",
    "viral_load_sptm = 1* 10 **(max(viral_load_sptm_range))\n",
    "\n",
    "#Ci is a conversion factor defined as the ratio between one infectious quantum and the infectious dose expressed\n",
    "#in viral RNA copies\n",
    "#Source: https://doi.org/10.1016/j.envint.2020.105794\n",
    "ci_range = [.01, .1]\n",
    "\n",
    "ci = .02\n",
    "\n",
    "#Inhalation (IR) is the product of breathing rate (Nbr) and tidal volume (Vbr)\n",
    "#IR is a dependent on the activity of the infected subject. \n",
    "#inhalation rate in cubic meters per hour\n",
    "#Source: https://ww2.arb.ca.gov/sites/default/files/classic//research/apr/past/a033-205.pdf\n",
    "inhalation_rate = {'resting': .49,\n",
    "                   'standing': .54,\n",
    "                   'light_exercise': 1.38,\n",
    "                   'moderate_exercise': 2.35,\n",
    "                   'heavy_exercise': 3.30}\n",
    "#Ni is the droplet concentrations by diameter in particles per cubic centimeter\n",
    "#Source: https://doi.org/10.1016/j.jaerosci.2008.11.002\n",
    "droplet_conc = {'counting':  \n",
    "                            {'.8μm': .236, '1.8μm': .068, '3.5μm': .007, '5.5μm': .011},\n",
    "                'whispering':\n",
    "                            {'.8μm': .110, '1.8μm': .014, '3.5μm': .004, '5.5μm': .002},\n",
    "                'singing':\n",
    "                            {'.8μm': .751, '1.8μm': .139, '3.5μm': .139, '5.5μm': .059},\n",
    "                'breathing':\n",
    "                            {'.8μm': .084, '1.8μm': .009, '3.5μm': .003, '5.5μm': .002},  \n",
    "                }\n",
    "#Speaking droplet concentrations are assumed to be the average of counting and singing\n",
    "droplet_conc['speaking'] = {'.8μm':  (droplet_conc['counting']['.8μm'] + droplet_conc['singing']['.8μm']) / 2,\n",
    "                            '1.8μm': (droplet_conc['counting']['1.8μm'] + droplet_conc['singing']['1.8μm']) / 2,\n",
    "                            '3.5μm': (droplet_conc['counting']['3.5μm'] + droplet_conc['singing']['3.5μm']) / 2, \n",
    "                            '5.5μm': (droplet_conc['counting']['5.5μm'] + droplet_conc['singing']['5.5μm']) / 2}\n",
    "\n",
    "#Vi is the total volume of a droplet and is the volume of a sphere \n",
    "# corresponding to each diameter of the size distribution.\n"
   ]
  },
  {
   "cell_type": "code",
   "execution_count": null,
   "metadata": {},
   "outputs": [],
   "source": [
    "#Calculate emission rates\n",
    "def get_quanta_emmission_rate(cv, ci, IR, Dc, Dv = droplet_vol):\n",
    "    #Convert droplet volume from cubic micrometers to centimeters\n",
    "    summation = sum([Dc['.8μm'] * (Dv['.8μm'] * CUBIC_μM_TO_CUBIC_CM),\n",
    "                     Dc['1.8μm'] * (Dv['1.8μm'] * CUBIC_μM_TO_CUBIC_CM),\n",
    "                     Dc['3.5μm'] * (Dv['3.5μm'] * CUBIC_μM_TO_CUBIC_CM),\n",
    "                     Dc['5.5μm'] * (Dv['5.5μm'] * CUBIC_μM_TO_CUBIC_CM)])\n",
    "    #Convert IR from cubic meters to mililiter\n",
    "    return cv * ci * (IR * CUBIC_M_TO_ML) * summation\n",
    "\n",
    "ERq = get_quanta_emmission_rate(viral_load_sptm, \n",
    "                          ci, \n",
    "                          inhalation_rate[activity], \n",
    "                          droplet_conc[expiratory_activity])\n",
    "print('Emission Rate of Quanta per hour: ' + str(ERq))"
   ]
  },
  {
   "cell_type": "markdown",
   "metadata": {},
   "source": [
    "Next we must calculate the quanta concentration as a function of time using the following equation:\n",
    "![title](images/formula1.png)\n",
    "[Gammaitoni, Nucci 1997](https://www.ncbi.nlm.nih.gov/pmc/articles/PMC2627642/)"
   ]
  },
  {
   "cell_type": "markdown",
   "metadata": {},
   "source": [
    "where IVRR (h−1) represents the infectious virus removal rate in the space investigated, n0 represents the initial number of quanta in the space, I is the number of infectious subjects, V is the volume of the indoor environment considered, and ERq is the abovementioned quanta emission rate (quanta h−1), characteristic of the specific disease/virus under investigation.\n",
    "\n",
    "This model was selected because it has been used in previous papers to estimate infection risk of other airborne diseases in indoor environments. For example [Wagner et al. 2009](https://bmcmedicine.biomedcentral.com/articles/10.1186/1741-7015-7-81)"
   ]
  },
  {
   "cell_type": "markdown",
   "metadata": {},
   "source": [
    "As of the 12/10/20 the infection rate for UC San Diego students is 11 cases / 11 / 1,385 tests. This information can be found on the [UCSD Return to Learn Dashboard](https://returntolearn.ucsd.edu/dashboard/index.html). The infection rate means the probability of any given student on campus to be infected is 0.79%, assuming widespread testing. \n",
    "\n",
    "If we our number of occupants is 50, our estimated number of infected occupants would be 0.375. So when the n_occupants is too small to produce <= 1 using the infection rate, we will assume 1 infected occupant to estimate risk  in order to produce relevant results."
   ]
  },
  {
   "cell_type": "code",
   "execution_count": null,
   "metadata": {},
   "outputs": [],
   "source": [
    "infection_rate = (2 + 11 + 10+ 3 + 7 + 10 + 12 + 5)/(20 + 1385 + 1375 + 286 + 1332 + 1414 + 944 + 1244)\n",
    "\n",
    "#In order to produce a relevant result, we must assume at least one infected occupant if the  \n",
    "#infection rate produces < 1 infected occupants. \n",
    "n_infected = int(infection_rate * n_occupants)\n",
    "if n_infected < 1:\n",
    "    n_infected = 1"
   ]
  },
  {
   "cell_type": "markdown",
   "metadata": {},
   "source": [
    "The infectious virus removal rate (IVRR) is the sum of three parameters [(Yang and Marr, 2011)](https://doi.org/10.1371/journal.pone.0021481): the air exchange rate (AER) via ventilation, the particle deposition on surfaces (k, e.g. via gravitational settling), and the viral inactivation (λ).\n",
    "\n",
    "Deposition rate is determined by the ratio of the settling velocity of the micrometric particles (1e-4 m/s) and \n",
    "assuming the height of the emmission source [(Chatoutsidou and Lazaridis, 2019)](https://doi.org/10.1016/j.culher.2019.02.017). Given the average height of a person is 1.5 m, the deposition_rate is assumed to be .24 per hour. "
   ]
  },
  {
   "cell_type": "code",
   "execution_count": null,
   "metadata": {},
   "outputs": [],
   "source": [
    "#Selecting minimum VAV cfm by default\n",
    "room_dict = get_room_data('data/room_data.csv')\n",
    "cfm = min(room_dict['cfm_range'])\n",
    "air_change_rate = get_air_changes_per_hour(cfm, room_dict['room_volume_m'])\n",
    "\n",
    "deposition_rate = .24\n",
    "\n",
    "#Viral Inactivation refers to the amount of time the virus \"survives\" in aerosol\n",
    "#.63 inactivation per hour\n",
    "#Source: https://www.nejm.org/doi/10.1056/NEJMc2004973\n",
    "viral_inactivation = .63\n",
    "\n",
    "#Infectious virus removal rate\n",
    "ivrr = air_change_rate + deposition_rate + viral_inactivation\n",
    "#n0 represents the initial quanta in a space\n",
    "#TODO: Find initial quanta - Use zero as placeholder\n",
    "#Source: \n",
    "initial_quanta = 0\n",
    "\n",
    "#Takes volume in cubic meters and time in hours\n",
    "#Returns the quanta per cubic meter \n",
    "def quanta_concentration(t, I = n_infected, ERq = ERq, IVRR = ivrr, V = room_volume_m, n0 = initial_quanta):\n",
    "    return ((ERq * I) / (IVRR * V)) + (n0 + ((ERq * I) / IVRR)) * ((np.e**(-IVRR * t)) / V)"
   ]
  },
  {
   "cell_type": "code",
   "execution_count": null,
   "metadata": {},
   "outputs": [],
   "source": [
    "print('n_infected: ' + str(n_infected))\n",
    "print('activity: ' + str(activity))\n",
    "print('quanta_emission: ' + str(ERq))\n",
    "print('VAV cfm: ' + str(cfm))\n",
    "print('ACH: ' + str(air_change_rate))\n",
    "print('room_volume: ' + str(room_volume))\n",
    "print('initial_quanta: ' + str(initial_quanta))\n",
    "print('duration: ' + str(t))\n",
    "n = quanta_concentration(t)\n",
    "print('quanta concentration is ' +  str(n) + ' after ' + str(t) + ' hours in the room given ' + str(n_infected) + ' infected occupant(s)')"
   ]
  },
  {
   "cell_type": "code",
   "execution_count": null,
   "metadata": {},
   "outputs": [],
   "source": [
    "fig = plt.figure()\n",
    "ax = plt.axes()\n",
    "plt.xlabel('Time (hr.)')\n",
    "plt.ylabel('Quanta per cubic meter')\n",
    "f2 = np.vectorize(quanta_concentration) \n",
    "x = np.linspace(0, t)\n",
    "ax.plot(x, f2(x));"
   ]
  },
  {
   "cell_type": "markdown",
   "metadata": {},
   "source": [
    "It is important to note that this model of quanta concentration assumes that the air change will begin at t = 0 so the quanta concentration will continue to decrease over time. This implies the assumption of a building HVAC system that ventilates in a constant fashion. In reality, HVAC systems tend to work in a cyclical fashion, providing short spurts of air to maintain stable temperatures. Below is an figure from Gupta et al. \"Zonal Air Handling in Commercial Buildings\" depicting this behavior. \n",
    "\n",
    "This is something to consider when evaluating the accuracy of our risk calculator. Evaluating a more accurate initial quanta may aid in improving accuracy of quanta concentration over time. "
   ]
  },
  {
   "cell_type": "code",
   "execution_count": null,
   "metadata": {},
   "outputs": [],
   "source": [
    "Image(filename='images/supplyairflow.png')"
   ]
  },
  {
   "cell_type": "markdown",
   "metadata": {},
   "source": [
    "Finally, to determine the the number of predicted susceptible people infected after the exposure time, we must find the product of the infection risk R and the number of susceptible people. \n",
    "To find R, we use the function below"
   ]
  },
  {
   "cell_type": "code",
   "execution_count": null,
   "metadata": {},
   "outputs": [],
   "source": [
    "Image(filename='images/formula3.png')"
   ]
  },
  {
   "cell_type": "code",
   "execution_count": null,
   "metadata": {},
   "outputs": [],
   "source": [
    "def calculate_risk(t, IR = inhalation_rate[activity]):\n",
    "    ans, err = quad(quanta_concentration, 0, t)\n",
    "    return 1 - np.e**(-IR * ans)\n",
    "\n",
    "risk = calculate_risk(t)\n",
    "print('The resulting risk of infection is ' + str(risk * 100) +'%')\n",
    "print('It is predicted that ' + str(risk) + ' x ' + str(n_occupants) + ' = ' + str(risk * n_occupants) + ' susceptible occupants will be infected')\n",
    "\n",
    "\n"
   ]
  },
  {
   "cell_type": "code",
   "execution_count": null,
   "metadata": {},
   "outputs": [],
   "source": [
    "#Numbers\n",
    "\n",
    "#User Parameters\n",
    "room_id = 'CENTER 101'\n",
    "#50 occupants is the reduced COVID-19 capacity.\n",
    "n_occupants = 50 \n",
    "#Duration in room in hours\n",
    "t = 1.25\n",
    "#Activity\n",
    "#For our experiment we will assume the occupants are resting (sitting)\n",
    "activities = ['resting', 'light_exercise', 'moderate_exercise', 'heavy_exercise']\n",
    "activity = activities[0]\n",
    "\n",
    "#Vocal Activity \n",
    "#For our experiment we will assume the occupants are whispering, or speaking softly.\n",
    "expiratory_activities = ['speaking', 'whispering', 'singing', 'breathing']\n",
    "expiratory_activity = expiratory_activities[0]\n",
    "\n",
    "assumptions = {\n",
    "                'cv': 1e9,\n",
    "                'ci': .02,\n",
    "                'IR': {'resting': .49,\n",
    "                       'standing': .54,\n",
    "                       'light_exercise': 1.38,\n",
    "                       'moderate_exercise': 2.35,\n",
    "                       'heavy_exercise': 3.30},\n",
    "                'droplet_conc': {\n",
    "                                    'speaking': {'.8μm': 0.4935,'1.8μm': 0.1035, '3.5μm': 0.073, '5.5μm': 0.035},\n",
    "                                    'low_speaking':  \n",
    "                                                {'.8μm': .236, '1.8μm': .068, '3.5μm': .007, '5.5μm': .011},\n",
    "                                    'whispering':\n",
    "                                                {'.8μm': .110, '1.8μm': .014, '3.5μm': .004, '5.5μm': .002},\n",
    "                                    'singing':\n",
    "                                                {'.8μm': .751, '1.8μm': .139, '3.5μm': .139, '5.5μm': .059},\n",
    "                                    'breathing':\n",
    "                                                {'.8μm': .084, '1.8μm': .009, '3.5μm': .003, '5.5μm': .002},  \n",
    "                        },\n",
    "    \n",
    "                'droplet_vol': {'.8μm': 0.26808257310632905, '1.8μm': 3.053628059289279, '3.5μm': 22.44929750377706, '5.5μm': 87.11374629016697},\n",
    "                'pass_vent_rate' : .35,\n",
    "                'deposition_rate' : .24,\n",
    "                'viral_inactivation' : .63,\n",
    "                'initial_quanta' : 0,\n",
    "                'viral_load_sptm' : 1000000000,\n",
    "                \n",
    "}\n",
    "\n",
    "\n",
    "    \n",
    "\n",
    "def infection_risk(t, room_id, n_occupants, activity, expiratory_activity, var = assumptions, room_data_path = 'data/room_data.csv', cfm = False):\n",
    "    \n",
    "    CUBIC_μM_TO_CUBIC_CM = 1e-12\n",
    "    ERq = get_quanta_emmission_rate(var['cv'], var['ci'], var['IR'][activity], var['droplet_conc'][expiratory_activity], var['droplet_vol'])\n",
    "    \n",
    "    room_dic = get_room_data(room_data_path)\n",
    "    cfm_range = room_dic['cfm_range']\n",
    "    if cfm == False:\n",
    "        cfm = min(cfm_range)\n",
    "    elif (cfm > max(cfm_range)) | ((cfm < min(cfm_range))):\n",
    "        print('User input error: CFM out of CFM range. Minimum CFM chosen')\n",
    "        cfm = min(cfm_range)\n",
    "    elif cfm == 'nan':\n",
    "        print(room_id + ' VAV CFM rate not found. Average CFM imputed')\n",
    "        cfm = 1200\n",
    "    #Air Changes per Hour\n",
    "    air_change_rate = get_air_changes_per_hour(cfm, room_dic['room_volume'])\n",
    "\n",
    "    ##To calculate infection rate we will aggregate the past week of testing for UC San Diego (last updated: 12/10/20)\n",
    "    #Source: https://returntolearn.ucsd.edu/dashboard/index.html\n",
    "    infection_rate = (2 + 11 + 10+ 3 + 7 + 10 + 12 + 5)/(20 + 1385 + 1375 + 286 + 1332 + 1414 + 944 + 1244)\n",
    "    n_infected = infection_rate * n_occupants\n",
    "    if n_infected < 1:\n",
    "        n_infected = 1\n",
    "    #Infectious virus removal rate\n",
    "    ivrr = air_change_rate + var['deposition_rate'] + var['viral_inactivation']\n",
    "    \n",
    "    def quanta_concentration(t, I = n_infected, ERq = ERq, IVRR = ivrr, V = room_dic['room_volume_m'], n0 = var['initial_quanta']):\n",
    "        return ((ERq * I) / (IVRR * V)) + (n0 + ((ERq * I) / IVRR)) * ((np.e**(-IVRR * t)) / V)\n",
    "\n",
    "    ans, err = quad(quanta_concentration, 0, t)\n",
    "    \n",
    "    risk = 1 - np.e**(-var['IR'][activity] * ans)\n",
    "    \n",
    "    print('The resulting risk of infection is ' + str(risk * 100) +'%')\n",
    "    print('It is predicted that ' + str(risk) + ' x ' + str(n_occupants) + ' = ' + str(risk * n_occupants) + ' susceptible occupants will be infected')\n",
    "    \n",
    "    return risk\n",
    "\n",
    "\n",
    "    \n",
    "\n",
    "risk = infection_risk(t, 'CENTER 101', 50, 'resting', 'speaking')\n",
    "print('The resulting risk of infection is ' + str(risk * 100) +'%')\n",
    "print('It is predicted that ' + str(risk) + ' x ' + str(n_occupants) + ' = ' + str(risk * n_occupants) + ' susceptible occupants will be infected')\n",
    "\n"
   ]
  },
  {
   "cell_type": "code",
   "execution_count": null,
   "metadata": {},
   "outputs": [],
   "source": []
  },
  {
   "cell_type": "markdown",
   "metadata": {},
   "source": [
    "#### Calculating max amount of people allowed in room given exposure time & max exposure time given a capacity"
   ]
  },
  {
   "cell_type": "code",
   "execution_count": null,
   "metadata": {},
   "outputs": [],
   "source": [
    "# Physical Parameters\n",
    "floor_area = room_area  # ft2\n",
    "mean_ceiling_height = room_hght  # ft\n",
    "air_exchange_rate = air_change_rate  # /hr (air changes per hour (ACH))\n",
    "primary_outdoor_air_fraction = 0.5  # 1.0 = natural ventilation\n",
    "aerosol_filtration_eff = [0.9997, 0.1, 0]  # HEPA,MERVs,no filter\n",
    "relative_humidity = 1 - 0.6\n",
    "room_vol = floor_area * mean_ceiling_height #ft3"
   ]
  },
  {
   "cell_type": "code",
   "execution_count": null,
   "metadata": {},
   "outputs": [],
   "source": [
    "#parameters\n",
    "breathing_flow_rate = 0.5 #meters/hour\n",
    "max_aerosol_radius = 2 #micrometers\n",
    "mask_passage_prob = [1,0.3,0.05] #no mask, cloth, N95\n",
    "exhaled_air_inf = ERq * 100 #infection quanta/meter #follow quanta_emission dict to calc\n",
    "max_viral_deact_rate = 0.6 # per hour\n",
    "room_vol_m = 0.0283168 * room_vol #meters\n",
    "mean_ceiling_height_m = mean_ceiling_height * 0.3048 #meters\n",
    "risk_tolerance = 0.1 #expected transmissions per infector\n",
    "air_exch_rate = air_exchange_rate #per hour"
   ]
  },
  {
   "cell_type": "code",
   "execution_count": null,
   "metadata": {},
   "outputs": [],
   "source": [
    "#calculations\n",
    "eff_aerosol_radius = ((0.4 / (1 - relative_humidity)) ** (1 / 3)) * max_aerosol_radius\n",
    "sett_speed_mm = 3 * (eff_aerosol_radius / 5) ** 2 #mm/s\n",
    "sett_speed = sett_speed_mm * 60 * 60 / 1000  # m/hr\n",
    "viral_deact_rate = max_viral_deact_rate * relative_humidity\n",
    "fresh_rate = room_vol * air_exch_rate / 60\n",
    "recirc_rate = fresh_rate * (1/primary_outdoor_air_fraction - 1)\n",
    "air_filt_rate = aerosol_filtration_eff[1] * recirc_rate * 60 / room_vol #have to specify which filtration we have\n",
    "conc_relax_rate = air_exch_rate + air_filt_rate + viral_deact_rate + sett_speed / mean_ceiling_height_m\n",
    "airb_trans_rate = ((breathing_flow_rate * mask_passage_prob[1]) ** 2) * exhaled_air_inf / (room_vol_m * conc_relax_rate) #have to specify what kind of mask usage"
   ]
  },
  {
   "cell_type": "code",
   "execution_count": null,
   "metadata": {},
   "outputs": [],
   "source": [
    "#Calculate maximum people allowed in the room given an exposure time (hours)\n",
    "#steady state model\n",
    "def calc_n_max_ss(exp_time): #exp time in hrs\n",
    "    #risk_tolerance = risk_tolerance  \n",
    "    n_max = 1 + risk_tolerance / (airb_trans_rate * exp_time)\n",
    "    return n_max\n",
    "\n",
    "#transient model\n",
    "def calc_n_max_t(exp_time): #exp time in hrs\n",
    "    risk_tolerance = risk_tolerance \n",
    "    n_max = 1 + (risk_tolerance * (1 + 1/(conc_relax_rate * exp_time)) / (airb_trans_rate * exp_time))\n",
    "    return n_max"
   ]
  },
  {
   "cell_type": "code",
   "execution_count": null,
   "metadata": {},
   "outputs": [],
   "source": [
    "#Calculate maximum exposure time allowed given a capacity (# people):\n",
    "def calc_max_time(n_max):\n",
    "    #risk_tolerance = risk_tolerance\n",
    "\n",
    "    exp_time_ss = risk_tolerance / ((n_max - 1) * airb_trans_rate)  # hrs, steady-state\n",
    "    exp_time_trans = exp_time_ss * (1 + (1 + 4 / (conc_relax_rate * exp_time_ss)) ** 0.5) / 2  # hrs, transient\n",
    "    return exp_time_trans"
   ]
  },
  {
   "cell_type": "code",
   "execution_count": null,
   "metadata": {},
   "outputs": [],
   "source": [
    "calc_max_time(750)"
   ]
  },
  {
   "cell_type": "code",
   "execution_count": null,
   "metadata": {},
   "outputs": [],
   "source": []
  }
 ],
 "metadata": {
  "kernelspec": {
   "display_name": "Python 3",
   "language": "python",
   "name": "python3"
  },
  "language_info": {
   "codemirror_mode": {
    "name": "ipython",
    "version": 3
   },
   "file_extension": ".py",
   "mimetype": "text/x-python",
   "name": "python",
   "nbconvert_exporter": "python",
   "pygments_lexer": "ipython3",
   "version": "3.6.2"
  }
 },
 "nbformat": 4,
 "nbformat_minor": 4
}
