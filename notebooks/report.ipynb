{
 "cells": [
  {
   "cell_type": "markdown",
   "metadata": {},
   "source": [
    "<h1><center>Airborne Infection Risk Calculator for Indoor Environments\n",
    "</center></h1>\n",
    "\n",
<<<<<<< Updated upstream
    "<center>By Etienne Doidic, Zhexu Li, and Nicholas Kho <center>"
=======
    "<center>By Etienne Doidic, Zhexu Li, and Nicholas <center>"
>>>>>>> Stashed changes
   ]
  },
  {
   "cell_type": "markdown",
   "metadata": {},
   "source": [
    "The global pandemic of COVID-19 has demonstrated the exceptional transmissibility of the SARS-CoV-2 virus and has highlighted the vulnerability of the built environment to airborne pathogens. For the past 40 years, Heat, Ventilation, and Air Conditioning (HVAC) systems in buildings have been optimized to recirculate conditioned air to save energy while maintaining a stable temperature [[Perez-Lombard et al. 2011]](https://doi.org/10.1016/j.enbuild.2010.10.025). However, HVAC systems operators must now consider the dangers of air recirculation and aim to prevent the buildup of airborne particles or pathogens throughout buildings in order to ensure the health of occupants and the greater public. As buildings today reopen without a vaccine it is important to understand the risk of airborne infection based on building and occupant features, for not only the current pandemic, but for future ones as well. One method that has been developed to address this problem is the infection risk calculator. These calculators allow users to input variables such as the number of occupants,  room dimensions, air change per hour (ACH), masks/no masks, etc., in order to determine the risk of infected person(s) transmitting a virus to susceptible people the room [Lelieveld et al. 2020](https://doi.org/10.3390/ijerph17218114).\n",
    "\n",
    "While these calculators may be convenient in some cases, they are “black box” algorithms, meaning the underlying code is not accessible or transparent to users. With a large amount of skepticism surrounding the academic literature regarding this virus and its transmission [[Scheirer 2020]](https://doi.org/10.1080/00963402.2020.1778361), we believe it is important infection risk calculators are as transparent as possible. \n",
    "\n",
    "In this notebook we describe our methods for developing our own infection risk algorithm for the SARS-CoV-2 virus which accepts room data, and a set of parameters regarding occupants and infection rates of the surrounding community. Code and assumptions made in the algorithm will be clearly explained to users for transparency. "
   ]
  },
  {
   "cell_type": "code",
<<<<<<< Updated upstream
   "execution_count": 1,
=======
   "execution_count": 9,
>>>>>>> Stashed changes
   "metadata": {},
   "outputs": [],
   "source": [
    "#Imports\n",
    "import matplotlib.pyplot as plt\n",
<<<<<<< Updated upstream
    "\n",
    "import numpy as np\n",
<<<<<<<< Updated upstream:notebooks/report.ipynb
=======
    "import numpy as np\n",
    "\n",
    "\n",
    "\n",
>>>>>>> Stashed changes
    "import sys\n",
    "import os\n",
    "sys_path = os.path.dirname(os.getcwd())\n",
    "src_path = sys_path + \"/src/calculator\"\n",
    "\n",
    "sys.path.insert(1, src_path)\n",
    "from calculator import * \n",
    "assumptions = var"
<<<<<<< Updated upstream
========
    "\n",
    "assumptions = var\n",
    "import sys\n",
    "import os"
>>>>>>>> Stashed changes:report.ipynb
=======
>>>>>>> Stashed changes
   ]
  },
  {
   "cell_type": "markdown",
   "metadata": {},
   "source": [
    "Here is where users can test out different parameters in order to get different results.\n",
    "It has been a challenge thus far to aquire accurate building data so we are limited to the manually inputted dataset located in notebooks/data/room_data.csv' but hopefully this gives an idea about what kind of building data are accepted by this calculator.\n",
    "\n",
    "In the future we hope to integrate this calculator with more automated systems of data retrieval such as real-time infection rates using web-mining, and querying building data directly from building systems using Brick and Metasys, for example.\n",
    "\n",
    "The default example calculates the infection risk of a classroom of students in Center Hall 101, a building at UC San Diego.\n",
    "This cell contains the only parameters that should be changed."
   ]
  },
  {
   "cell_type": "code",
<<<<<<< Updated upstream
   "execution_count": 2,
=======
   "execution_count": 7,
>>>>>>> Stashed changes
   "metadata": {},
   "outputs": [],
   "source": [
    "#--------User Parameters----------------\n",
    "#Number of occupants\n",
    "#Room ID\n",
    "room_id = 'CENTER 101'\n",
    "#50 occupants is the reduced COVID-19 capacity.\n",
    "n_occupants = 50 \n",
    "#Duration in room in hours\n",
    "t = 1.25\n",
    "#Activity\n",
    "#For our experiment we will assume the occupants are resting (sitting)\n",
    "activities = ['resting', 'light_exercise', 'moderate_exercise', 'heavy_exercise']\n",
    "activity = activities[0]\n",
    "\n",
    "#Vocal Activity \n",
    "#For our experiment we will assume the occupants are speaking.\n",
    "expiratory_activities = ['speaking', 'whispering', 'singing', 'breathing']\n",
    "expiratory_activity = expiratory_activities[0]"
   ]
  },
  {
   "cell_type": "markdown",
   "metadata": {},
   "source": [
    "Read in data regarding our subject room on the UC San Diego campus."
   ]
  },
  {
   "cell_type": "code",
<<<<<<< Updated upstream
   "execution_count": 3,
=======
   "execution_count": 12,
>>>>>>> Stashed changes
   "metadata": {},
   "outputs": [
    {
     "data": {
      "text/plain": [
       "{'room_area': 3428,\n",
       " 'room_hght': 21.0,\n",
       " 'cfm_range': [3500, 7000],\n",
       " 'windows': nan,\n",
       " 'room_volume': 71988.0,\n",
       " 'room_volume_m': 2038.4697984}"
      ]
     },
<<<<<<< Updated upstream
     "execution_count": 3,
=======
     "execution_count": 12,
>>>>>>> Stashed changes
     "metadata": {},
     "output_type": "execute_result"
    }
   ],
   "source": [
<<<<<<< Updated upstream
    "room_dic = get_room_data('notebooks/data/room_data.csv', room_id)\n",
=======
    "room_dic = get_room_data(sys_path + '/data/raw/rm.csv', room_id)\n",
>>>>>>> Stashed changes
    "room_dic"
   ]
  },
  {
   "cell_type": "markdown",
   "metadata": {},
   "source": [
    "To calculate the risk of infection in a given room, the emmission rate of quanta is needed. A quantum is defined as the viral load i.e. the dose of contaminated airborne droplet nuclei required to cause infection in 63% of persons. \n",
    "The emmission rate of quanta is caclulated with the following formula:\n",
<<<<<<< Updated upstream
    "![title](notebooks/images/formula1.1.png)\n",
=======
    "![title](/images/formula1.1.png)\n",
>>>>>>> Stashed changes
    "\n",
    "[Morawska et al. 2020](https://doi.org/10.1016/j.envint.2020.105794)"
   ]
  },
  {
   "cell_type": "markdown",
   "metadata": {},
   "source": [
    "<b>cv</b> corresponds to the <b>viral load in the sputum</b> (i.e. infectious mucus) of the infected person, expressed in <b>RNA copies per mililiter</b>. The viral load in sputum of an infected person varies and is dependent on the stage of infection [[Yu et al. 2020]](https://doi.org/10.1186/s13054-020-02893-8).\n",
    "A range of 1e5 - 1e9 RNA copies per mililiter for viral load in the sputum is determined but for this experiment we will choose the maximum viral load to simulate the worst case scenario for infection spread [[Walsh et al. 2020]](https://doi.org/10.1016/j.jinf.2020.06.067).\n",
    "\n",
    "<b>ci</b> is a conversion factor defined as the ratio between one infectious quantum and the infectious dose expressed in viral RNA copies, expressed in <b>quanta per RNA copies</b>. A survey of ci's indicates a range of .01 to .1 but finally a ci of .02 was selected to reflect the average value of the infectious doses reported in [Watanabe et al. 2010](https://onlinelibrary.wiley.com/doi/full/10.1111/j.1539-6924.2010.01427.x). The study covers SARS-CoV (not to be confused with SARS-CoV-2, the virus that causes COVID-19) but was selected because it provides a more well-studied report of the infectivity of coronaviruses, which has not possible for SARS-CoV-2 due to its very recent development.\n",
    "\n",
    "<b>Inhalation Rate (IR)</b> is the product of breathing rate and tidal volume, expressed in <b>cubic meters per hour</b>. IR is dependent on the activity of the infected subject. The following values were chosen from [Adams 1993](https://ww2.arb.ca.gov/sites/default/files/classic//research/apr/past/a033-205.pdf)\n"
   ]
  },
  {
   "cell_type": "code",
<<<<<<< Updated upstream
<<<<<<<< Updated upstream:notebooks/report.ipynb
   "execution_count": 4,
========
   "execution_count": 7,
>>>>>>>> Stashed changes:report.ipynb
   "metadata": {},
   "outputs": [
    {
     "data": {
      "text/plain": [
       "resting              0.49\n",
       "standing             0.54\n",
       "light_exercise       1.38\n",
       "moderate_exercise    2.35\n",
       "heavy_exercise       3.30\n",
       "dtype: float64"
      ]
     },
<<<<<<<< Updated upstream:notebooks/report.ipynb
     "execution_count": 4,
========
     "execution_count": 7,
>>>>>>>> Stashed changes:report.ipynb
     "metadata": {},
     "output_type": "execute_result"
    }
   ],
=======
   "execution_count": null,
   "metadata": {},
   "outputs": [],
>>>>>>> Stashed changes
   "source": [
    "pd.Series(assumptions['IR'])"
   ]
  },
  {
   "cell_type": "markdown",
   "metadata": {},
   "source": [
    "<b>Ni</b> is the droplet concentrations by diameter in <b>particles per cubic centimeter</b>. The droplet concentrations are dependent on the expiratory activity of the infected person. Droplet concentrations by diameter were taken from [Morawska et al. 2009](https://doi.org/10.1016/j.jaerosci.2008.11.002). \"Speaking\" was considered to be the average of \"singing\" and \"counting.\" "
   ]
  },
  {
   "cell_type": "code",
<<<<<<< Updated upstream
<<<<<<<< Updated upstream:notebooks/report.ipynb
   "execution_count": 5,
========
   "execution_count": 8,
>>>>>>>> Stashed changes:report.ipynb
   "metadata": {},
   "outputs": [
    {
     "data": {
      "text/html": [
       "<div>\n",
       "<style scoped>\n",
       "    .dataframe tbody tr th:only-of-type {\n",
       "        vertical-align: middle;\n",
       "    }\n",
       "\n",
       "    .dataframe tbody tr th {\n",
       "        vertical-align: top;\n",
       "    }\n",
       "\n",
       "    .dataframe thead th {\n",
       "        text-align: right;\n",
       "    }\n",
       "</style>\n",
       "<table border=\"1\" class=\"dataframe\">\n",
       "  <thead>\n",
       "    <tr style=\"text-align: right;\">\n",
       "      <th></th>\n",
       "      <th>speaking</th>\n",
       "      <th>counting</th>\n",
       "      <th>whispering</th>\n",
       "      <th>singing</th>\n",
       "      <th>breathing</th>\n",
       "    </tr>\n",
       "  </thead>\n",
       "  <tbody>\n",
       "    <tr>\n",
       "      <th>.8μm</th>\n",
       "      <td>0.4935</td>\n",
       "      <td>0.236</td>\n",
       "      <td>0.110</td>\n",
       "      <td>0.751</td>\n",
       "      <td>0.084</td>\n",
       "    </tr>\n",
       "    <tr>\n",
       "      <th>1.8μm</th>\n",
       "      <td>0.1035</td>\n",
       "      <td>0.068</td>\n",
       "      <td>0.014</td>\n",
       "      <td>0.139</td>\n",
       "      <td>0.009</td>\n",
       "    </tr>\n",
       "    <tr>\n",
       "      <th>3.5μm</th>\n",
       "      <td>0.0730</td>\n",
       "      <td>0.007</td>\n",
       "      <td>0.004</td>\n",
       "      <td>0.139</td>\n",
       "      <td>0.003</td>\n",
       "    </tr>\n",
       "    <tr>\n",
       "      <th>5.5μm</th>\n",
       "      <td>0.0350</td>\n",
       "      <td>0.011</td>\n",
       "      <td>0.002</td>\n",
       "      <td>0.059</td>\n",
       "      <td>0.002</td>\n",
       "    </tr>\n",
       "  </tbody>\n",
       "</table>\n",
       "</div>"
      ],
      "text/plain": [
       "       speaking  counting  whispering  singing  breathing\n",
       ".8μm     0.4935     0.236       0.110    0.751      0.084\n",
       "1.8μm    0.1035     0.068       0.014    0.139      0.009\n",
       "3.5μm    0.0730     0.007       0.004    0.139      0.003\n",
       "5.5μm    0.0350     0.011       0.002    0.059      0.002"
      ]
     },
<<<<<<<< Updated upstream:notebooks/report.ipynb
     "execution_count": 5,
========
     "execution_count": 8,
>>>>>>>> Stashed changes:report.ipynb
     "metadata": {},
     "output_type": "execute_result"
    }
   ],
=======
   "execution_count": null,
   "metadata": {},
   "outputs": [],
>>>>>>> Stashed changes
   "source": [
    "pd.DataFrame(assumptions['droplet_conc'])"
   ]
  },
  {
   "cell_type": "markdown",
   "metadata": {},
   "source": [
    "<b>Vi</b> simply represents the volume of the sphere created by the droplets with the specified diameter in <b>cubic micrometers</b>\n",
    "\n",
    "Finally, <b>j</b> refers to expiratory activity the infected person is engaged in, e.g. singing."
   ]
  },
  {
   "cell_type": "code",
<<<<<<< Updated upstream
<<<<<<<< Updated upstream:notebooks/report.ipynb
   "execution_count": 6,
========
   "execution_count": 9,
>>>>>>>> Stashed changes:report.ipynb
   "metadata": {},
   "outputs": [
    {
     "name": "stdout",
     "output_type": "stream",
     "text": [
      "Emission rate in quanta per hour for an infected sprinting singer: 586.4725479880691\n",
      "                                 for an infected cheating student: 3.295392672978445\n"
     ]
    }
   ],
=======
   "execution_count": null,
   "metadata": {},
   "outputs": [],
>>>>>>> Stashed changes
   "source": [
    "#Calculate emission rates\n",
    "ERq1 = get_quanta_emmission_rate('heavy_exercise', 'singing',assumptions)\n",
    "ERq2 = get_quanta_emmission_rate('resting', 'whispering', assumptions)\n",
    "print('Emission rate in quanta per hour for an infected sprinting singer: ' + str(ERq1))\n",
    "print('                                 for an infected cheating student: ' + str(ERq2))"
   ]
  },
  {
   "cell_type": "markdown",
   "metadata": {},
   "source": [
    "Next we must calculate the quanta concentration as a function of time using the following equation:\n",
    "![title](notebooks/images/formula1.png)\n",
    "[Gammaitoni, Nucci 1997](https://www.ncbi.nlm.nih.gov/pmc/articles/PMC2627642/)"
   ]
  },
  {
   "cell_type": "markdown",
   "metadata": {},
   "source": [
    "where <b>IVRR (hr−1)</b> represents the infectious virus removal rate in the space investigated. The infectious virus removal rate (IVRR) is the sum of three parameters [(Yang and Marr, 2011)](https://doi.org/10.1371/journal.pone.0021481): the air change per hour (<b>ACH</b>) via ventilation, the <b>particle deposition</b> on surfaces via gravitational settling, and the <b>viral inactivation rate</b> (i.e. how long the virus remains contagious in aerosol).\n",
    "\n",
    "<b>n0</b> represents the initial number of quanta in the space\n",
    "\n",
    "<b>I</b> is the number of infectious subjects, V is the volume of the indoor environment considered,\n",
    "\n",
    "and <b>ERq</b> is the abovementioned quanta emission rate (quanta h−1)\n",
    "\n",
    "This model was selected because it has been used in previous papers to estimate infection risk of other airborne diseases in indoor environments. For example [Wagner et al. 2009](https://bmcmedicine.biomedcentral.com/articles/10.1186/1741-7015-7-81)\n",
    "\n",
    "The <b>viral inactivation rate</b> of SARS-CoV2 was determined to be .63 by [Doremalen et al. 2020](https://doi.org/10.1056/nejmc2004973).\n",
    "\n",
    "<b>Deposition rate</b> is determined by the ratio of the settling velocity of the micrometric particles (1e-4 m/s) and \n",
    "assuming the height of the emmission source. Given the average height of a person is 1.5 m, the deposition_rate is assumed to be .24 per hour [(Chatoutsidou and Lazaridis, 2019)](https://doi.org/10.1016/j.culher.2019.02.017)\n",
    "\n",
    "<b>ACH</b> is dependent on room conditions. Is a window open? Is the air conditioning pushing in new air? In order to determine the ACH we use the flow rate of the VAV inside of the room. VAV flow rates were determined using VAV spec sheets."
   ]
  },
  {
   "cell_type": "code",
<<<<<<< Updated upstream
<<<<<<<< Updated upstream:notebooks/report.ipynb
   "execution_count": 7,
========
   "execution_count": 10,
>>>>>>>> Stashed changes:report.ipynb
   "metadata": {},
   "outputs": [
    {
     "name": "stdout",
     "output_type": "stream",
     "text": [
      "Min ACH for CENTER 101 is 2.9171528588098017\n"
     ]
    }
   ],
=======
   "execution_count": null,
   "metadata": {},
   "outputs": [],
>>>>>>> Stashed changes
   "source": [
    "ach = get_air_changes_per_hour(min(room_dic['cfm_range']), room_dic['room_volume'])\n",
    "print(\"Min ACH for \" + str(room_id) + \" is \" + str(ach))"
   ]
  },
  {
   "cell_type": "markdown",
   "metadata": {},
   "source": [
    "To determine the number of infected occupants in a room the infection rate must be known. \n",
    "\n",
    "As of the 12/10/20 the infection rate for UC San Diego students is 11 cases / 11 / 1,385 tests. This information can be found on the [UCSD Return to Learn Dashboard](https://returntolearn.ucsd.edu/dashboard/index.html). The infection rate means the probability of any given student on campus to be infected is 0.79%, assuming widespread testing. \n",
    "\n",
    "So if our number of occupants is 50, the estimated number of infected occupants would be 0.375. When the n_occupants is too small to produce >= 1 infected occupants using the infection rate, we will assume 1 infected occupant to estimate risk  in order to produce relevant results."
   ]
  },
  {
   "cell_type": "code",
<<<<<<< Updated upstream
<<<<<<<< Updated upstream:notebooks/report.ipynb
   "execution_count": 8,
========
   "execution_count": 11,
>>>>>>>> Stashed changes:report.ipynb
=======
   "execution_count": null,
>>>>>>> Stashed changes
   "metadata": {},
   "outputs": [],
   "source": [
    "infection_rate = (2 + 11 + 10+ 3 + 7 + 10 + 12 + 5)/(20 + 1385 + 1375 + 286 + 1332 + 1414 + 944 + 1244)\n",
    "#In order to produce a relevant result, we must assume at least one infected occupant if the  \n",
    "#infection rate produces < 1 infected occupants. \n",
    "n_infected = int(infection_rate * n_occupants)\n",
    "if n_infected < 1:\n",
    "    n_infected = 1"
   ]
  },
  {
   "cell_type": "markdown",
   "metadata": {},
   "source": [
    "<b>n0</b> or initial quanta is assumed to be zero in our experiment. This is because there doesn't seem to be an accurate way of determining this value. Assuming a natural ventilation ACH of .2, the IVRR would be 1.02(hr-1) meaning that in a little under an hour any viral particles would be inactive. So for the sake of this experiment we will assume the room has been empty for about an hour beforehand. "
   ]
  },
  {
   "cell_type": "code",
<<<<<<< Updated upstream
<<<<<<<< Updated upstream:notebooks/report.ipynb
   "execution_count": 9,
========
   "execution_count": 12,
>>>>>>>> Stashed changes:report.ipynb
   "metadata": {},
   "outputs": [
    {
     "data": {
      "image/png": "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\n",
      "text/plain": [
       "<Figure size 432x288 with 1 Axes>"
      ]
     },
     "metadata": {
      "needs_background": "light"
     },
     "output_type": "display_data"
    }
   ],
=======
   "execution_count": null,
   "metadata": {},
   "outputs": [],
>>>>>>> Stashed changes
   "source": [
    "ivrr = .63 + .24 + ach\n",
    "def quanta_concentration(t, I = n_infected, ERq = ERq1, V = room_dic['room_volume_m'], n0 = 0, IVRR = ivrr):\n",
    "    return ((ERq * I) / (IVRR * V)) + (n0 + ((ERq * I) / IVRR)) * ((np.e**(-IVRR * t)) / V)\n",
    "\n",
    "fig = plt.figure()\n",
    "ax = plt.axes()\n",
    "plt.xlabel('Time (hr.)')\n",
    "plt.ylabel('Quanta per cubic meter')\n",
    "plt.title('Minimum Ventilation')\n",
    "f2 = np.vectorize(quanta_concentration) \n",
    "x = np.linspace(0, t)\n",
    "ax.plot(x, f2(x));"
   ]
  },
  {
   "cell_type": "code",
<<<<<<< Updated upstream
<<<<<<<< Updated upstream:notebooks/report.ipynb
   "execution_count": 10,
========
   "execution_count": 13,
>>>>>>>> Stashed changes:report.ipynb
   "metadata": {},
   "outputs": [
    {
     "data": {
      "image/png": "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\n",
      "text/plain": [
       "<Figure size 432x288 with 1 Axes>"
      ]
     },
     "metadata": {
      "needs_background": "light"
     },
     "output_type": "display_data"
    }
   ],
=======
   "execution_count": null,
   "metadata": {},
   "outputs": [],
>>>>>>> Stashed changes
   "source": [
    "ivrr = .63 + .24\n",
    "def quanta_concentration(t, I = n_infected, ERq = ERq1, V = room_dic['room_volume_m'], n0 = 0, IVRR = ivrr):\n",
    "    return ((ERq * I) / (IVRR * V)) + (n0 + ((ERq * I) / IVRR)) * ((np.e**(-IVRR * t)) / V)\n",
    "\n",
    "fig = plt.figure()\n",
    "ax = plt.axes()\n",
    "plt.xlabel('Time (hr.)')\n",
    "plt.ylabel('Quanta per cubic meter')\n",
    "plt.title('No Ventilation')\n",
    "f2 = np.vectorize(quanta_concentration) \n",
    "x = np.linspace(0, t)\n",
    "ax.plot(x, f2(x));"
   ]
  },
  {
   "cell_type": "markdown",
   "metadata": {},
   "source": [
    "Above we have plotted the quanta concentration over time using minimum ventilation as well as no ventilation at all. \n",
    "It is important to note that this model of quanta concentration assumes that the air change will begin at t = 0 so the quanta concentration will continue to decrease over time. This implies the building HVAC system would ventilate in a constant fashion. In reality, HVAC systems tend to work in a cyclical fashion, providing short spurts of air to maintain stable temperatures. Below is an figure from Gupta et al. \"Zonal Air Handling in Commercial Buildings\" depicting this behavior. \n",
    "\n",
    "![title](notebooks/images/supplyairflow.png)\n"
   ]
  },
  {
   "cell_type": "markdown",
   "metadata": {},
   "source": [
    "Finally, to determine the the number of predicted susceptible people infected after the exposure time, we must find the product of the infection risk R and the number of susceptible people. \n",
    "To find R, we use the function below\n",
    "![title](notebooks/images/formula3.png)"
   ]
  },
  {
   "cell_type": "code",
<<<<<<< Updated upstream
<<<<<<<< Updated upstream:notebooks/report.ipynb
   "execution_count": 11,
========
   "execution_count": 17,
>>>>>>>> Stashed changes:report.ipynb
   "metadata": {},
   "outputs": [
    {
     "name": "stdout",
     "output_type": "stream",
     "text": [
      "The resulting risk of infection is 3.7582806433111626%\n",
      "It is predicted that 0.037582806433111626 x 50 = 1 susceptible occupants will be infected\n",
<<<<<<<< Updated upstream:notebooks/report.ipynb
      "The resulting risk of infection is 0.03161487429370613%\n",
      "It is predicted that 0.0003161487429370613 x 50 = 0 susceptible occupants will be infected\n"
========
      "The resulting risk of infection is 0.4817998190395967%\n",
      "It is predicted that 0.004817998190395967 x 50 = 0 susceptible occupants will be infected\n",
      "Average Risk: 2.1200402311753797\n",
      "Susceptible Occupants Infected: 1\n"
>>>>>>>> Stashed changes:report.ipynb
     ]
    }
   ],
   "source": [
    "\n",
    "walking_talking_risk = infection_risk(t, 'CENTER 101', 50, 'light_exercise', 'speaking', 'notebooks/data/room_data.csv')\n",
<<<<<<<< Updated upstream:notebooks/report.ipynb
    "sitting_whisper_risk = infection_risk(t, 'CENTER 101', 50, 'resting', 'whispering', 'notebooks/data/room_data.csv')\n",
    "average_risk = (walking_talking_risk + sitting_whisper_risk) /2"
========
=======
   "execution_count": null,
   "metadata": {},
   "outputs": [],
   "source": [
    "walking_talking_risk = infection_risk(t, 'CENTER 101', 50, 'light_exercise', 'speaking', 'notebooks/data/room_data.csv')\n",
>>>>>>> Stashed changes
    "sitting_whisper_risk = infection_risk(t, 'CENTER 101', 50, 'resting', 'speaking', 'notebooks/data/room_data.csv')\n",
    "average_risk = (walking_talking_risk + sitting_whisper_risk) /2\n",
    "\n",
    "print('Average Risk: ' + str(average_risk * 100))\n",
    "print('Susceptible Occupants Infected: ' + str((int(average_risk * 50))))"
<<<<<<< Updated upstream
>>>>>>>> Stashed changes:report.ipynb
   ]
  },
  {
   "cell_type": "code",
   "execution_count": 12,
   "metadata": {},
   "outputs": [],
   "source": [
    "enablePrint()\n",
    "print('Average Risk: ' + str(average_risk * 100))\n",
    "print('Susceptible Occupants Infected: ' + str((int(average_risk * 50))))"
=======
   ]
  },
  {
   "cell_type": "markdown",
   "metadata": {},
   "source": [
    "We decided to average out the two actions student might engage in in the classroom, those being walking, talking,and sitting and whispering. This produced an average risk of 2.12%. "
>>>>>>> Stashed changes
   ]
  },
  {
   "cell_type": "markdown",
   "metadata": {},
   "source": [
<<<<<<< Updated upstream
    "We decided to average out the two actions student might engage in in the classroom, those being walking, talking,and sitting and whispering. This produced an average risk of 1.89% with 0 occupants estimated to be infected.\n",
    "Lets compare this to pre-COVID capcacity..."
=======
    "Lets try some more calculations with different parameters..."
>>>>>>> Stashed changes
   ]
  },
  {
   "cell_type": "code",
<<<<<<< Updated upstream
<<<<<<<< Updated upstream:notebooks/report.ipynb
   "execution_count": 13,
   "metadata": {},
   "outputs": [],
========
   "execution_count": 20,
   "metadata": {},
   "outputs": [
    {
     "name": "stdout",
     "output_type": "stream",
     "text": [
      "The resulting risk of infection is 0.4817998190395967%\n",
      "It is predicted that 0.004817998190395967 x 50 = 0 susceptible occupants will be infected\n",
      "The resulting risk of infection is 0.584840235721662%\n",
      "It is predicted that 0.00584840235721662 x 50 = 0 susceptible occupants will be infected\n",
      "The resulting risk of infection is 3.7582806433111626%\n",
      "It is predicted that 0.037582806433111626 x 50 = 1 susceptible occupants will be infected\n",
      "The resulting risk of infection is 10.51380269764961%\n",
      "It is predicted that 0.1051380269764961 x 50 = 5 susceptible occupants will be infected\n",
      "The resulting risk of infection is 19.672145166090218%\n",
      "It is predicted that 0.19672145166090216 x 50 = 9 susceptible occupants will be infected\n"
     ]
    },
    {
     "data": {
      "text/plain": [
       "<BarContainer object of 5 artists>"
      ]
     },
     "execution_count": 20,
     "metadata": {},
     "output_type": "execute_result"
    },
    {
     "data": {
      "image/png": "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\n",
      "text/plain": [
       "<Figure size 432x288 with 1 Axes>"
      ]
     },
     "metadata": {
      "needs_background": "light"
     },
     "output_type": "display_data"
    }
   ],
=======
   "execution_count": null,
   "metadata": {},
   "outputs": [],
>>>>>>> Stashed changes
   "source": [
    "sitting_talking_risk = infection_risk(t, 'CENTER 101', 50, 'resting', 'speaking', 'notebooks/data/room_data.csv')\n",
    "standing_talking_risk = infection_risk(t, 'CENTER 101', 50, 'standing', 'speaking', 'notebooks/data/room_data.csv')\n",
    "walking_talking_risk = infection_risk(t, 'CENTER 101', 50, 'light_exercise', 'speaking', 'notebooks/data/room_data.csv')\n",
    "\n",
    "running_talking_risk = infection_risk(t, 'CENTER 101', 50, 'moderate_exercise', 'speaking', 'notebooks/data/room_data.csv')\n",
    "\n",
    "exercising_talking_risk = infection_risk(t, 'CENTER 101', 50, 'heavy_exercise', 'speaking', 'notebooks/data/room_data.csv')\n",
    "\n",
    "fig = plt.figure()\n",
    "ax = plt.axes()\n",
    "plt.xlabel('Activities')\n",
    "plt.ylabel('Infection Risks')\n",
    "plt.title('Activities vs. Infection Risks')\n",
    "actno = [\"sitting\", \"standing\", \"walking\", \"running\", \"exercising\"]\n",
    "risks = [sitting_talking_risk, standing_talking_risk, walking_talking_risk, running_talking_risk, exercising_talking_risk]\n",
    "ax.bar(actno, risks)"
   ]
  },
  {
   "cell_type": "code",
<<<<<<< Updated upstream
   "execution_count": 21,
   "metadata": {},
   "outputs": [
    {
     "name": "stdout",
     "output_type": "stream",
     "text": [
      "The resulting risk of infection is 0.584840235721662%\n",
      "It is predicted that 0.00584840235721662 x 50 = 0 susceptible occupants will be infected\n",
      "The resulting risk of infection is 0.158194416097035%\n",
      "It is predicted that 0.00158194416097035 x 50 = 0 susceptible occupants will be infected\n",
      "The resulting risk of infection is 0.03839477193774421%\n",
      "It is predicted that 0.0003839477193774421 x 50 = 0 susceptible occupants will be infected\n",
      "The resulting risk of infection is 1.0096629046696948%\n",
      "It is predicted that 0.010096629046696948 x 50 = 0 susceptible occupants will be infected\n",
      "The resulting risk of infection is 0.03329318175059326%\n",
      "It is predicted that 0.0003329318175059326 x 50 = 0 susceptible occupants will be infected\n"
     ]
    },
    {
     "data": {
      "text/plain": [
       "<BarContainer object of 5 artists>"
      ]
     },
     "execution_count": 21,
     "metadata": {},
     "output_type": "execute_result"
    },
    {
     "data": {
      "image/png": "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\n",
      "text/plain": [
       "<Figure size 432x288 with 1 Axes>"
      ]
     },
     "metadata": {
      "needs_background": "light"
     },
     "output_type": "display_data"
    }
   ],
=======
   "execution_count": null,
   "metadata": {},
   "outputs": [],
>>>>>>> Stashed changes
   "source": [
    "speaking = infection_risk(t, 'CENTER 101', 50, 'standing', 'speaking', 'notebooks/data/room_data.csv')\n",
    "counting = infection_risk(t, 'CENTER 101', 50, 'standing', 'counting', 'notebooks/data/room_data.csv')\n",
    "whispering = infection_risk(t, 'CENTER 101', 50, 'standing', 'whispering', 'notebooks/data/room_data.csv')\n",
    "\n",
    "singing = infection_risk(t, 'CENTER 101', 50, 'standing', 'singing', 'notebooks/data/room_data.csv')\n",
    "\n",
    "breathing = infection_risk(t, 'CENTER 101', 50, 'standing', 'breathing', 'notebooks/data/room_data.csv')\n",
    "\n",
    "fig = plt.figure()\n",
    "ax = plt.axes()\n",
    "plt.xlabel('Expiratory Activities')\n",
    "plt.ylabel('Infection Risks')\n",
    "plt.title('Expiratory Activities vs. Infection Risks')\n",
    "actno = [\"breathing\", \"whispering\", \"counting\", \"speaking\", \"singing\"]\n",
    "risks = [breathing, whispering, counting, speaking, singing]\n",
    "ax.bar(actno, risks)"
   ]
  },
  {
   "cell_type": "markdown",
   "metadata": {},
<<<<<<< Updated upstream
>>>>>>>> Stashed changes:report.ipynb
   "source": [
    "\n",
    "walking_talking_risk = infection_risk(t, 'CENTER 101', 295, 'light_exercise', 'speaking', 'notebooks/data/room_data.csv')\n",
    "sitting_whisper_risk = infection_risk(t, 'CENTER 101', 295, 'resting', 'whispering', 'notebooks/data/room_data.csv')\n",
    "average_risk = (walking_talking_risk + sitting_whisper_risk) /2"
   ]
  },
  {
   "cell_type": "code",
   "execution_count": 14,
   "metadata": {},
   "outputs": [],
   "source": [
    "enablePrint()\n",
    "print('Average Risk: ' + str(average_risk * 100))\n",
    "print('Susceptible Occupants Infected: ' + str((int(average_risk * 50))))"
   ]
  },
  {
   "cell_type": "code",
   "execution_count": 15,
   "metadata": {},
   "outputs": [
    {
     "data": {
      "text/plain": [
       "<BarContainer object of 5 artists>"
      ]
     },
     "execution_count": 15,
     "metadata": {},
     "output_type": "execute_result"
    },
    {
     "data": {
      "image/png": "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\n",
      "text/plain": [
       "<Figure size 432x288 with 1 Axes>"
      ]
     },
     "metadata": {
      "needs_background": "light"
     },
     "output_type": "display_data"
    }
   ],
   "source": [
    "blockPrint()\n",
    "sitting_talking_risk = infection_risk(t, 'CENTER 101', 50, 'resting', 'speaking', 'notebooks/data/room_data.csv')\n",
    "standing_talking_risk = infection_risk(t, 'CENTER 101', 50, 'standing', 'speaking', 'notebooks/data/room_data.csv')\n",
    "walking_talking_risk = infection_risk(t, 'CENTER 101', 50, 'light_exercise', 'speaking', 'notebooks/data/room_data.csv')\n",
    "\n",
    "running_talking_risk = infection_risk(t, 'CENTER 101', 50, 'moderate_exercise', 'speaking', 'notebooks/data/room_data.csv')\n",
    "\n",
    "exercising_talking_risk = infection_risk(t, 'CENTER 101', 50, 'heavy_exercise', 'speaking', 'notebooks/data/room_data.csv')\n",
    "\n",
    "fig = plt.figure()\n",
    "ax = plt.axes()\n",
    "plt.xlabel('Activities')\n",
    "plt.ylabel('Infection Risks')\n",
    "plt.title('Activities vs. Infection Risks')\n",
    "actno = [\"sitting\", \"standing\", \"walking\", \"running\", \"exercising\"]\n",
    "risks = [sitting_talking_risk, standing_talking_risk, walking_talking_risk, running_talking_risk, exercising_talking_risk]\n",
    "ax.bar(actno, risks)"
=======
   "source": [
    "## Results and Discussion"
   ]
  },
  {
   "cell_type": "markdown",
   "metadata": {},
   "source": [
    "- The concentration over time models the decay in quantum concentration, does not model the accumulation of quanta well. While this aspect is important to understand it\n",
    "- It seems that the activity is very important in determining the risk. \n",
    "- Ventilation plays a huge role in mitigating risk. "
>>>>>>> Stashed changes
   ]
  },
  {
   "cell_type": "code",
<<<<<<< Updated upstream
   "execution_count": 16,
   "metadata": {},
   "outputs": [
    {
     "data": {
      "text/plain": [
       "<BarContainer object of 5 artists>"
      ]
     },
     "execution_count": 16,
     "metadata": {},
     "output_type": "execute_result"
    },
    {
     "data": {
      "image/png": "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\n",
      "text/plain": [
       "<Figure size 432x288 with 1 Axes>"
      ]
     },
     "metadata": {
      "needs_background": "light"
     },
     "output_type": "display_data"
    }
   ],
   "source": [
    "speaking = infection_risk(t, 'CENTER 101', 50, 'standing', 'speaking', 'notebooks/data/room_data.csv')\n",
    "counting = infection_risk(t, 'CENTER 101', 50, 'standing', 'counting', 'notebooks/data/room_data.csv')\n",
    "whispering = infection_risk(t, 'CENTER 101', 50, 'standing', 'whispering', 'notebooks/data/room_data.csv')\n",
    "\n",
    "singing = infection_risk(t, 'CENTER 101', 50, 'standing', 'singing', 'notebooks/data/room_data.csv')\n",
    "\n",
    "breathing = infection_risk(t, 'CENTER 101', 50, 'standing', 'breathing', 'notebooks/data/room_data.csv')\n",
    "\n",
    "fig = plt.figure()\n",
    "ax = plt.axes()\n",
    "plt.xlabel('Expiratory Activities')\n",
    "plt.ylabel('Infection Risks')\n",
    "plt.title('Expiratory Activities vs. Infection Risks')\n",
    "actno = [\"breathing\", \"whispering\", \"counting\", \"speaking\", \"singing\"]\n",
    "risks = [breathing, whispering, counting, speaking, singing]\n",
    "ax.bar(actno, risks)"
=======
   "execution_count": null,
   "metadata": {},
   "outputs": [],
   "source": [
    "#Mask efficacy\n",
    "mask = {'none': 0,\n",
    "        'average': .7,\n",
    "        'high': .95}\n",
    "mask_efficacy = mask['average']\n",
    "\n",
    "#Speaker to Breathing Ratio (Default 1 to n for lecture with no discussion)\n",
    "speaker_to_breathing_ratio = 1/n_occupants\n",
    "\n",
    "#Social Distancing\n",
    "social_distancing = True\n",
    "#infection rate"
>>>>>>> Stashed changes
   ]
  },
  {
   "cell_type": "markdown",
   "metadata": {},
   "source": [
<<<<<<< Updated upstream
    "## Results and Discussion"
   ]
  },
  {
   "cell_type": "markdown",
   "metadata": {},
   "source": [
    "The purpose of this calculator is to give building users a better understanding of how infection can be spread. Our findings could give insight into effective methods for mitigating  in concentration over time models the decay in quantum concentration, does not model the accumulation of quanta well. While this aspect is important to understand it\n",
    "- It seems that the activity is very important in determining the risk. \n",
    "- Ventilation plays a huge role in mitigating risk. "
   ]
  },
  {
   "cell_type": "markdown",
   "metadata": {},
   "source": [
    "#### Calculating max amount of people allowed in room given exposure time & max exposure time given a capacity"
=======
    "#### Calculating max amount of people allowed in room given exposure time & max exposure time given a capacity"
   ]
  },
  {
   "cell_type": "code",
   "execution_count": null,
   "metadata": {},
   "outputs": [],
   "source": [
    "room_dic"
>>>>>>> Stashed changes
   ]
  },
  {
   "cell_type": "code",
<<<<<<< Updated upstream
   "execution_count": 17,
=======
   "execution_count": null,
>>>>>>> Stashed changes
   "metadata": {},
   "outputs": [],
   "source": [
    "# Physical Parameters\n",
    "room_vol = room_dic['room_volume']\n",
    "air_exchange_rate = get_air_changes_per_hour(max(room_dic['cfm_range']), room_vol)  # /hr (air changes per hour (ACH))\n",
    "primary_outdoor_air_fraction = 0.5  # 1.0 = natural ventilation\n",
    "aerosol_filtration_eff = [0.9997, 0.1, 0]  # HEPA,MERVs,no filter\n",
    "relative_humidity = 1 - 0.6\n"
   ]
  },
  {
   "cell_type": "code",
<<<<<<< Updated upstream
   "execution_count": 18,
=======
   "execution_count": null,
>>>>>>> Stashed changes
   "metadata": {},
   "outputs": [],
   "source": [
    "#parameters\n",
    "breathing_flow_rate = 0.5 #meters/hour\n",
    "max_aerosol_radius = 2 #micrometers\n",
    "mask_passage_prob = [1,0.3,0.05] #no mask, cloth, N95\n",
    "exhaled_air_inf = ERq1 * 100 #infection quanta/meter #follow quanta_emission dict to calc\n",
    "max_viral_deact_rate = 0.6 # per hour\n",
    "room_vol_m = 0.0283168 * room_vol #meters\n",
    "mean_ceiling_height_m = 21 * 0.3048 #meters\n",
    "risk_tolerance = 0.1 #expected transmissions per infector\n",
    "air_exch_rate = air_exchange_rate #per hour"
   ]
  },
  {
   "cell_type": "code",
<<<<<<< Updated upstream
   "execution_count": 19,
=======
   "execution_count": null,
>>>>>>> Stashed changes
   "metadata": {},
   "outputs": [],
   "source": [
    "#calculations\n",
    "eff_aerosol_radius = ((0.4 / (1 - relative_humidity)) ** (1 / 3)) * max_aerosol_radius\n",
    "sett_speed_mm = 3 * (eff_aerosol_radius / 5) ** 2 #mm/s\n",
    "sett_speed = sett_speed_mm * 60 * 60 / 1000  # m/hr\n",
    "viral_deact_rate = max_viral_deact_rate * relative_humidity\n",
    "fresh_rate = room_vol * air_exch_rate / 60\n",
    "recirc_rate = fresh_rate * (1/primary_outdoor_air_fraction - 1)\n",
    "air_filt_rate = aerosol_filtration_eff[1] * recirc_rate * 60 / room_vol #have to specify which filtration we have\n",
    "conc_relax_rate = air_exch_rate + air_filt_rate + viral_deact_rate + sett_speed / mean_ceiling_height_m\n",
    "airb_trans_rate = ((breathing_flow_rate * mask_passage_prob[1]) ** 2) * exhaled_air_inf / (room_vol_m * conc_relax_rate) #have to specify what kind of mask usage"
   ]
  },
  {
   "cell_type": "code",
<<<<<<< Updated upstream
   "execution_count": 20,
=======
   "execution_count": null,
>>>>>>> Stashed changes
   "metadata": {},
   "outputs": [],
   "source": [
    "#Calculate maximum people allowed in the room given an exposure time (hours)\n",
    "#steady state model\n",
    "def calc_n_max_ss(exp_time): #exp time in hrs\n",
    "    #risk_tolerance = risk_tolerance  \n",
    "    n_max = 1 + risk_tolerance / (airb_trans_rate * exp_time)\n",
    "    return n_max\n",
    "\n",
    "#transient model\n",
    "def calc_n_max_t(exp_time): #exp time in hrs\n",
    "    risk_tolerance = risk_tolerance \n",
    "    n_max = 1 + (risk_tolerance * (1 + 1/(conc_relax_rate * exp_time)) / (airb_trans_rate * exp_time))\n",
    "    return n_max"
   ]
  },
  {
   "cell_type": "code",
<<<<<<< Updated upstream
   "execution_count": 21,
=======
   "execution_count": null,
>>>>>>> Stashed changes
   "metadata": {},
   "outputs": [],
   "source": [
    "#Calculate maximum exposure time allowed given a capacity (# people):\n",
    "def calc_max_time(n_max):\n",
    "    #risk_tolerance = risk_tolerance\n",
    "\n",
    "    exp_time_ss = risk_tolerance / ((n_max - 1) * airb_trans_rate)  # hrs, steady-state\n",
    "    exp_time_trans = exp_time_ss * (1 + (1 + 4 / (conc_relax_rate * exp_time_ss)) ** 0.5) / 2  # hrs, transient\n",
    "    return exp_time_trans"
   ]
  },
  {
   "cell_type": "code",
<<<<<<< Updated upstream
   "execution_count": 22,
   "metadata": {},
   "outputs": [
    {
     "data": {
      "text/plain": [
       "0.015086633369858401"
      ]
     },
     "execution_count": 22,
     "metadata": {},
     "output_type": "execute_result"
    }
   ],
   "source": [
    "calc_max_time(750) "
   ]
=======
   "execution_count": null,
   "metadata": {},
   "outputs": [],
   "source": [
    "calc_max_time(750) "
   ]
  },
  {
   "cell_type": "code",
   "execution_count": null,
   "metadata": {},
   "outputs": [],
   "source": []
>>>>>>> Stashed changes
  }
 ],
 "metadata": {
  "kernelspec": {
   "display_name": "Python 3",
   "language": "python",
   "name": "python3"
  },
  "language_info": {
   "codemirror_mode": {
    "name": "ipython",
    "version": 3
   },
   "file_extension": ".py",
   "mimetype": "text/x-python",
   "name": "python",
   "nbconvert_exporter": "python",
   "pygments_lexer": "ipython3",
   "version": "3.7.6"
  }
 },
 "nbformat": 4,
 "nbformat_minor": 4
}
