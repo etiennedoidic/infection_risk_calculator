{
 "cells": [
  {
   "cell_type": "markdown",
   "metadata": {},
   "source": [
    "In this notebook we will be going over how to calculate the risk of infection for indoor environments to familiarize ourselves with the parameters and functions. \n",
    "\n",
    "Our subject room will be Center Hall Room 101, a lecture hall at UC San Diego."
   ]
  },
  {
   "cell_type": "code",
   "execution_count": 106,
   "metadata": {},
   "outputs": [],
   "source": [
    "import random\n",
    "import numpy as np\n",
    "import matplotlib.pyplot as plt\n",
    "import scipy.stats as ss\n",
    "from scipy.stats import truncnorm\n",
    "import json\n",
    "from IPython.display import Image\n",
    "import pandas as pd\n",
    "\n",
    "\n",
    "\n",
    "MINUTES_IN_HOUR = 60\n",
    "SECONDS_IN_MINUTE = 60\n",
    "SECONDS_IN_HOUR = 3600\n",
    "FEET_TO_METERS = 0.3048\n",
    "SQ_FT_TO_SQ_M = 0.092903\n",
    "CUBIC_FT_TO_METERS = 0.0283168"
   ]
  },
  {
   "cell_type": "code",
   "execution_count": 147,
   "metadata": {},
   "outputs": [],
   "source": [
    "#User Parameters\n",
    "#Parameters that must be inputted by the User\n",
    "#For this example we will be simulating a classroom setting in Center Hall Room 101\n",
    "\n",
    "#Number of occupants\n",
    "#Room ID\n",
    "room_id = 'CENTER 101'\n",
    "#50 occupants is the reduced COVID-19 capacity.\n",
    "n_occupants = 50 \n",
    "#Speaker to Breathing Ratio (Default 1 to n for lecture with no discussion)\n",
    "speaker_to_breathing_ratio = 1/n_occupants\n",
    "\n",
    "#mask efficacy.\n",
    "mask = {'none': 0,\n",
    "        'average': .7,\n",
    "        'high': .95}\n",
    "mask_efficacy = mask['average']\n",
    "#Duration in seconds\n",
    "t = 1.25\n",
    "#Activity\n",
    "activities = ['resting', 'light_exercise', 'moderate_exercise', 'heavy_exercise']\n",
    "activity = np.random.choice(activities)\n",
    "\n",
    "#Vocal Activity \n",
    "vocal_activities = ['speaking', 'whispering', 'singing', 'breathing']\n",
    "vocal_activity = np.random.choice(vocal_activities)\n",
    "#Social Distancing\n",
    "social_distancing = True\n",
    "#infection rate\n",
    "#To calculate infection rate we will aggregate the past week of testing for our region, UC San Diego\n",
    "#Source: https://returntolearn.ucsd.edu/dashboard/index.html\n",
    "infection_rate = (2 + 11 + 10+ 3 + 7 + 10 + 12 + 5)/(20 + 1385 + 1375 + 286 + 1332 + 1414 + 944 + 1244)\n",
    "\n",
    "#Age input. If not age is inputted an age distribution should be generated for the region. \n",
    "#Default age distribution is an empirical age distribution for a UCSD Classroom. \n",
    "    #Source: https://ir.ucsd.edu/_files/stats-data/profile/profile-2018-2019.pdf\n",
    "occupant_age = np.random.choice([18, 19, 20, 21, 22, 23, 24, random.randint(25, 30)], size = n_occupants, p = [.198, .195, .195, .1875, .09375, .046875, .023875, .06])\n",
    "\n"
   ]
  },
  {
   "cell_type": "code",
   "execution_count": 150,
   "metadata": {},
   "outputs": [],
   "source": [
    "#Building Parameters\n",
    "room_table = pd.read_csv('data/room_data.csv')\n",
    "#Room Area in square ft.\n",
    "room_area = room_table.loc[room_table['Room'] == room_id]['Area'].item()\n",
    "#Room Height (Center 101 has a slopes downwards so we are calculating average for height) in ft.\n",
    "#impute null values with average ceiling height of 10 ft\n",
    "room_hght = room_table.loc[room_table['Room'] == room_id]['Height'].item()\n",
    "if room_hght == 'nan':\n",
    "    room_hght = 10\n",
    "#Passive ventilation rate Standard: 0.35 ACH Range: 0–1 ACH\n",
    "#Average assumed to be .35 based on survey of research\n",
    "#Source: https://www.aivc.org/sites/default/files/members_area/medias/pdf/Airbase/airbase_00250.pdf, \n",
    "#        https://doi.org/10.1016/j.buildenv.2011.12.017\n",
    "pass_vent_rate = .35\n",
    "#CFM range\n",
    "cfm_range = room_table.loc[room_table['Room'] == room_id]['VAV'].item()\n",
    "#Windows\n",
    "windows = room_table.loc[room_table['Room'] == room_id]['Windows'].item()"
   ]
  },
  {
   "cell_type": "code",
   "execution_count": 109,
   "metadata": {},
   "outputs": [],
   "source": [
    "# Assumptions\n",
    "\n",
    "#Wet aerosol diameter Standard: 5 Range: 2–10 µm\n",
    "#Source:\n",
    "wet_asl_d = 5\n",
    "#Virus lifetime in aerosol Standard: 1.7 Range: 0.6–2.6 Hours\n",
    "#Source\n",
    "virus_life = 1.7\n",
    "#Viral load “highly infectious” Standard: 5 × 10^8 Range: 10^8–10^9 RNA Copies/cm3\n",
    "#Source:\n",
    "hi_viral_load = 5e8\n",
    "#Viral load “super infectious” Standard: 5 × 10^9 Range: 10^9–10^10 RNA Copies/cm3\n",
    "#source:\n",
    "si_viral_load = 5e9\n",
    "#Deposition probability in lungs Standard 0.5 Range: 0.2–0.8\n",
    "#Source:\n",
    "deposition_prob = .5\n",
    "#Infective dose (D50) Standard: 316 Range: 100–1000 RNA copies\n",
    "#Source:\n",
    "d50 = 316"
   ]
  },
  {
   "cell_type": "code",
   "execution_count": 151,
   "metadata": {},
   "outputs": [],
   "source": [
    "#Helper Functions\n",
    "\n",
    "#Used to generate values with normal distribution\n",
    "def get_truncated_normal(mean=0, sd=1, low=0, upp=10):\n",
    "    return truncnorm(\n",
    "        (low - mean) / sd, (upp - mean) / sd, loc=mean, scale=sd)\n",
    "\n",
    "def get_air_changes_per_hour(cfm, room_volume):\n",
    "    if str(cfm) == 'nan':\n",
    "        #impute unknown cfm with arbitrary cfm\n",
    "        print('VAV unknown. Imputed with arbitrary VAV of 800 CFM')\n",
    "        cfm = 800\n",
    "    return (cfm * 60) / room_volume\n",
    "\n",
    "#Takes volume in cubic meters and time in hours\n",
    "#Returns the quanta per cubic meter \n",
    "def quanta_concentration(I, ERq, IVRR, V, n0, t):\n",
    "    return ((ERq * I) / (IVRR * V)) + (n0 + ((ERq * I) / IVRR)) * ((np.e **(-IVRR * t)) / V)\n",
    "\n",
    "def generate_occupants(n_occupants, speaker_to_breathing_ratio, occupant_age = occupant_age, masks_efficacy = mask_efficacy):\n",
    "    occupants = {}\n",
    "    for i in range(n_occupants):\n",
    "        curr_occ = \"occ\" + str(i)\n",
    "        occupants[curr_occ] = {}\n",
    "        occupants[curr_occ]['age'] = occupant_age[i]\n",
    "        #Here we must change respiratory function to reflect exercise\n",
    "        #Normal breathing/speaking/singing concentrations\n",
    "        #Concentration from breathing Standard: 0.1 Range: 0.06–1.0 cm−3 Distribution: Normal\n",
    "        #Source:\n",
    "        normal_breathing = get_truncated_normal(mean=.1, sd=.02, low=.06, upp=1)\n",
    "        occupants[curr_occ]['conc_breathing'] = normal_breathing.rvs()\n",
    "        #Concentration from speaking (singing) Standard: 1.1 Range: 0.06–6.0 cm−3 Distribution: Normal\n",
    "        #Source:\n",
    "        normal_speaking = get_truncated_normal(mean=1.1, sd=.02, low=.06, upp=6)\n",
    "        occupants[curr_occ]['conc_speaking'] = normal_speaking.rvs()\n",
    "        #Respiratory rate standard: 10 Range: 5–20 L/min Distribution: Normal\n",
    "        #Source:\n",
    "        normal_respiratory_rate = get_truncated_normal(mean= 10, sd=5, low=5, upp=20)\n",
    "        occupants[curr_occ]['norm_resp_rate'] = normal_respiratory_rate.rvs()\n",
    "        occupants[curr_occ]['mask_efficacy'] = masks_efficacy\n",
    "        occupants[curr_occ]['testedWeekly'] = True\n",
    "    return occupants"
   ]
  },
  {
   "cell_type": "code",
   "execution_count": 152,
   "metadata": {},
   "outputs": [],
   "source": [
    "occupants = generate_occupants(n_occupants, speaker_to_breathing_ratio)"
   ]
  },
  {
   "cell_type": "code",
   "execution_count": 153,
   "metadata": {},
   "outputs": [
    {
     "data": {
      "text/plain": [
       "{'age': 23,\n",
       " 'conc_breathing': 0.10707971668385584,\n",
       " 'conc_speaking': 1.1076566429261543,\n",
       " 'norm_resp_rate': 11.296929346812567,\n",
       " 'mask_efficacy': 0.7,\n",
       " 'testedWeekly': True}"
      ]
     },
     "execution_count": 153,
     "metadata": {},
     "output_type": "execute_result"
    }
   ],
   "source": [
    "occupants['occ0']"
   ]
  },
  {
   "cell_type": "markdown",
   "metadata": {},
   "source": [
    "To calculate the risk of infection in a given room, the emmission rate of quanta is needed. A quantum is defined as the viral load i.e. the dose of airborne droplet nuclei required to cause infection in 63% of persons. \n",
    "The emmission rate is caclulated with the following formula"
   ]
  },
  {
   "cell_type": "code",
   "execution_count": 154,
   "metadata": {},
   "outputs": [
    {
     "data": {
      "image/png": "[encoded data removed]",
      "text/plain": [
       "<IPython.core.display.Image object>"
      ]
     },
     "execution_count": 154,
     "metadata": {},
     "output_type": "execute_result"
    }
   ],
   "source": [
    "#Formula for calulating Emission Rate \n",
    "#Source: https://doi.org/10.1016/j.envint.2020.105794\n",
    "Image(filename='images/formula.png') "
   ]
  },
  {
   "cell_type": "code",
   "execution_count": 156,
   "metadata": {},
   "outputs": [
    {
     "ename": "TypeError",
     "evalue": "'float' object cannot be interpreted as an integer",
     "output_type": "error",
     "traceback": [
      "\u001b[0;31m---------------------------------------------------------------------------\u001b[0m",
      "\u001b[0;31mTypeError\u001b[0m                                 Traceback (most recent call last)",
      "\u001b[0;32m<ipython-input-156-c109041347fe>\u001b[0m in \u001b[0;36m<module>\u001b[0;34m\u001b[0m\n\u001b[1;32m      8\u001b[0m \u001b[0;31m#in viral RNA copies\u001b[0m\u001b[0;34m\u001b[0m\u001b[0;34m\u001b[0m\u001b[0m\n\u001b[1;32m      9\u001b[0m \u001b[0;31m#Source: https://doi.org/10.1016/j.envint.2020.105794\u001b[0m\u001b[0;34m\u001b[0m\u001b[0;34m\u001b[0m\u001b[0m\n\u001b[0;32m---> 10\u001b[0;31m \u001b[0mci\u001b[0m \u001b[0;34m=\u001b[0m \u001b[0mrange\u001b[0m\u001b[0;34m(\u001b[0m\u001b[0;36m.01\u001b[0m\u001b[0;34m,\u001b[0m \u001b[0;36m.1\u001b[0m\u001b[0;34m)\u001b[0m\u001b[0;34m\u001b[0m\u001b[0m\n\u001b[0m\u001b[1;32m     11\u001b[0m \u001b[0;34m\u001b[0m\u001b[0m\n\u001b[1;32m     12\u001b[0m \u001b[0;31m#Vbr is the volume of exhaled air per breath in cubic meters\u001b[0m\u001b[0;34m\u001b[0m\u001b[0;34m\u001b[0m\u001b[0m\n",
      "\u001b[0;31mTypeError\u001b[0m: 'float' object cannot be interpreted as an integer"
     ]
    }
   ],
   "source": [
    "#Cv or viral load in sputum is in RNA copies per mL.\n",
    "#The viral load in sputum of an infected person varies is dependent on the stage of infection.\n",
    "#Source: https://doi.org/10.1186/s13054-020-02893-8, https://dx.doi.org/10.1016%2Fj.jinf.2020.06.067\n",
    "viral_load_sptm_range = range(100000, 10000000000)\n",
    "viral_load_sptm\n",
    "\n",
    "#Ci is a conversion factor defined as the ratio between one infectious quantum and the infectious dose expressed\n",
    "#in viral RNA copies\n",
    "#Source: https://doi.org/10.1016/j.envint.2020.105794\n",
    "ci = [.1, .01]\n",
    "\n",
    "#Vbr is the volume of exhaled air per breath in cubic meters \n",
    "vol_exhale = occupants['occ0']['conc_speaking']\n",
    "\n",
    "#Nbr is the breathing rate in breaths per hour\n",
    "breath_rate = occupants['occ0']['norm_resp_rate']\n",
    "\n",
    "#Inhalation (IR) is the product of breathing rate (Nbr) and tidal volume (Vbr)\n",
    "#IR is a dependent on the activity of the infected subject. \n",
    "\n",
    "#Nd is the droplet number concentration in particles per cubic meter"
   ]
  },
  {
   "cell_type": "code",
   "execution_count": 127,
   "metadata": {},
   "outputs": [],
   "source": [
    "#Vd(D) is the volume of a single droplet as a function of droplet diameter\n",
    "#Source: https://doi.org/10.1016/j.jaerosci.2008.11.002\n",
    "droplet_diameters = data = {'talking':  \n",
    "                                                {'.8μm': .236, '1.8μm': .068, '3.5μm': .007, '5.5μm': .011},\n",
    "                            'whisper':\n",
    "                                                {'.8μm': .110, '1.8μm': .014, '3.5μm': .004, '5.5μm': .002},\n",
    "                            'singing':\n",
    "                                                {'.8μm': .751, '1.8μm': .139, '3.5μm': .139, '5.5μm': .059},\n",
    "                            'breathing':\n",
    "                                                {'.8μm': .084, '1.8μm': .009, '3.5μm': .003, '5.5μm': .002},  \n",
    "                           }\n",
    "\n"
   ]
  },
  {
   "cell_type": "code",
   "execution_count": 128,
   "metadata": {},
   "outputs": [],
   "source": [
    "#inhalation rate in cubic feet per hour\n",
    "#Source: https://ww2.arb.ca.gov/sites/default/files/classic//research/apr/past/a033-205.pdf\n",
    "inhalation_rate = {'resting': .49,\n",
    "                   'standing': .54,\n",
    "                   'light_exercise': 1.38,\n",
    "                   'moderate_exercise': 2.35,\n",
    "                   'heavy_exercise': 3.30}"
   ]
  },
  {
   "cell_type": "code",
   "execution_count": null,
   "metadata": {},
   "outputs": [],
   "source": [
    "#Average quanta emission rates averaged between men and women based on activity\n",
    "#Emission rates are given in cubic meters per hour\n",
    "                    {'resting': .49,\n",
    "                   'standing': .54,\n",
    "                   'light_exercise': 1.38,\n",
    "                   'moderate_exercise': 2.35,\n",
    "                   'heavy_exercise': 3.30}"
   ]
  },
  {
   "cell_type": "code",
   "execution_count": 129,
   "metadata": {},
   "outputs": [
    {
     "data": {
      "image/png": "[encoded data removed]",
      "text/plain": [
       "<IPython.core.display.Image object>"
      ]
     },
     "execution_count": 129,
     "metadata": {},
     "output_type": "execute_result"
    }
   ],
   "source": [
    "#Formula for calulating quanta\n",
    "#Source: https://doi.org/10.1016/j.envint.2020.105794\n",
    "Image(filename='images/formula1.png')\n"
   ]
  },
  {
   "cell_type": "markdown",
   "metadata": {},
   "source": [
    "where IVRR (h−1) represents the infectious virus removal rate in the space investigated, n0 represents the initial number of quanta in the space, I is the number of infectious subjects, V is the volume of the indoor environment considered, and ERq is the abovementioned quanta emission rate (quanta h−1) characteristic of the specific disease/virus under investigation"
   ]
  },
  {
   "cell_type": "markdown",
   "metadata": {},
   "source": [
    "As of the current date the infection rate for UC San Diego students is 11 cases / 11 / 1,385 tests. That means the probability of any given student to be infected is 0.79%. If we assume our number of occupants to 21, our estimated number of infected occupants would be this would give 0.166. So when the n_occupants is too small to produce <= 1 using the infection rate, we will assume 1 infected occupant to estimate risk unless otherwise specified. "
   ]
  },
  {
   "cell_type": "code",
   "execution_count": 130,
   "metadata": {},
   "outputs": [],
   "source": [
    "n_infected = infection_rate * n_occupants\n",
    "if n_infected < 1:\n",
    "    n_infected = 1"
   ]
  },
  {
   "cell_type": "markdown",
   "metadata": {},
   "source": [
    "The infectious virus removal rate (IVRR) is the sum of three contributions (Yang and Marr, 2011): the air exchange rate (AER) via ventilation, the particle deposition on surfaces (k, e.g. via gravitational settling), and the viral inactivation (λ)."
   ]
  },
  {
   "cell_type": "code",
   "execution_count": 131,
   "metadata": {},
   "outputs": [],
   "source": [
    "#V is volume of room\n",
    "room_volume = room_area * room_hght\n",
    "\n",
    "#VAV cubic feet of air per minute (CFM) ranges frmo 3,500 - 7,000 in Center 101\n",
    "#We will choose min cfm by default. \n",
    "#Source Prof. Rajesh Gupta\n",
    "cfm = min(list(map(int, cfm_range.split(','))))\n",
    "#Air Changes per Hour\n",
    "air_change_rate = get_air_changes_per_hour(cfm, room_volume)\n",
    "#Change units\n",
    "room_volume_m = room_volume * CUBIC_FT_TO_METERS\n",
    "\n",
    "# Deposition rate is determined by the ratio of the settling velocity of the micrometric particles (1e-4 m/s) and \n",
    "# assuming the height of the emmission source (average height of a person is 1.5 m)\n",
    "#The deposition_rate is assumed to be .24 per hour\n",
    "# Source https://doi.org/10.1016/j.culher.2019.02.017\n",
    "deposition_rate = .24\n",
    "\n",
    "#Viral Inactivation refers to the amount of time the virus \"survives\" in aerosol\n",
    "#.63 inactivation per hour\n",
    "#Source: https://www.nejm.org/doi/10.1056/NEJMc2004973\n",
    "viral_inactivation = .63\n",
    "\n",
    "#Infectious virus removal rate\n",
    "ivrr = air_change_rate + deposition_rate + viral_inactivation\n",
    "#n0 represents the initial quanta in a space\n",
    "#TODO: Find initial quanta - Use zero as placeholder\n",
    "#Source: \n",
    "initial_quanta = 0\n"
   ]
  },
  {
   "cell_type": "code",
   "execution_count": 135,
   "metadata": {},
   "outputs": [
    {
     "name": "stdout",
     "output_type": "stream",
     "text": [
      "n_infected: 1\n",
      "activity: light_exercise\n",
      "quanta_emission: 1.38\n",
      "VAV cfm: 3500\n",
      "ACH: 2.9171528588098017\n",
      "room_volume: 71988.0\n",
      "initial_quanta: 0\n",
      "duration: 1.25\n",
      "quanta concentration is 0.00018032813611218787 after 1.25 hours in the room given 1infection occupant(s)\n"
     ]
    }
   ],
   "source": [
    "print('n_infected: ' + str(n_infected))\n",
    "print('activity: ' + str(activity))\n",
    "print('quanta_emission: ' + str(quanta_emission[activity]))\n",
    "print('VAV cfm: ' + str(cfm))\n",
    "print('ACH: ' + str(air_change_rate))\n",
    "print('room_volume: ' + str(room_volume))\n",
    "print('initial_quanta: ' + str(initial_quanta))\n",
    "print('duration: ' + str(t))\n",
    "n = quanta_concentration(n_infected, quanta_emission[activity], ivrr, room_volume_m, initial_quanta, t)\n",
    "print('quanta concentration is ' +  str(n) + ' after ' + str(t) + ' hours in the room given ' + str(n_infected) + 'infection occupant(s)')"
   ]
  },
  {
   "cell_type": "code",
   "execution_count": 136,
   "metadata": {},
   "outputs": [
    {
     "data": {
      "image/png": "[encoded data removed]",
      "text/plain": [
       "<Figure size 432x288 with 1 Axes>"
      ]
     },
     "metadata": {
      "needs_background": "light"
     },
     "output_type": "display_data"
    }
   ],
   "source": [
    "fig = plt.figure()\n",
    "ax = plt.axes()\n",
    "\n",
    "\n",
    "f2 = np.vectorize(quanta_concentration) \n",
    "\n",
    "\n",
    "x = np.linspace(0, t)\n",
    "ax.plot(x, f2(n_infected, quanta_emission[activity], ivrr, room_volume_m, initial_quanta, x));"
   ]
  },
  {
   "cell_type": "markdown",
   "metadata": {},
   "source": [
    "Finally, to determine the the number of predicted susceptible people infected after the exposure time, we must find the product of the infection risk R and the number of susceptible people. \n",
    "To find R, we use the function below"
   ]
  },
  {
   "cell_type": "code",
   "execution_count": 137,
   "metadata": {},
   "outputs": [
    {
     "data": {
      "image/png": "[encoded data removed]",
      "text/plain": [
       "<IPython.core.display.Image object>"
      ]
     },
     "execution_count": 137,
     "metadata": {},
     "output_type": "execute_result"
    }
   ],
   "source": [
    "Image(filename='images/formula3.png')"
   ]
  },
  {
   "cell_type": "markdown",
   "metadata": {},
   "source": [
    "IR is the inhalation rate of the exposed subject. It is the product of breathing rate and tidal volume"
   ]
  },
  {
   "cell_type": "code",
   "execution_count": null,
   "metadata": {},
   "outputs": [],
   "source": []
  },
  {
   "cell_type": "markdown",
   "metadata": {},
   "source": [
    "#### Calculating max amount of people allowed in room given exposure time & max exposure time given a capacity"
   ]
  },
  {
   "cell_type": "code",
   "execution_count": 122,
   "metadata": {},
   "outputs": [],
   "source": [
    "# Physical Parameters\n",
    "floor_area = room_area  # ft2\n",
    "mean_ceiling_height = room_hght  # ft\n",
    "air_exchange_rate = air_change_rate  # /hr (air changes per hour (ACH))\n",
    "primary_outdoor_air_fraction = 0.5  # 1.0 = natural ventilation\n",
    "aerosol_filtration_eff = [0.9997, 0.1, 0]  # HEPA,MERVs,no filter\n",
    "relative_humidity = 1 - 0.6\n",
    "room_vol = floor_area * mean_ceiling_height #ft3"
   ]
  },
  {
   "cell_type": "code",
   "execution_count": 123,
   "metadata": {},
   "outputs": [],
   "source": [
    "#parameters\n",
    "breathing_flow_rate = 0.5 #meters/hour\n",
    "max_aerosol_radius = 2 #micrometers\n",
    "mask_passage_prob = [1,0.3,0.05] #no mask, cloth, N95\n",
    "exhaled_air_inf = quanta_emission['standing'] * 100 #infection quanta/meter #follow quanta_emission dict to calc\n",
    "max_viral_deact_rate = 0.6 # per hour\n",
    "room_vol_m = 0.0283168 * room_vol #meters\n",
    "mean_ceiling_height_m = mean_ceiling_height * 0.3048 #meters\n",
    "risk_tolerance = 0.1 #expected transmissions per infector\n",
    "air_exch_rate = air_exchange_rate #per hour"
   ]
  },
  {
   "cell_type": "code",
   "execution_count": 124,
   "metadata": {},
   "outputs": [],
   "source": [
    "#calculations\n",
    "eff_aerosol_radius = ((0.4 / (1 - relative_humidity)) ** (1 / 3)) * max_aerosol_radius\n",
    "sett_speed_mm = 3 * (eff_aerosol_radius / 5) ** 2 #mm/s\n",
    "sett_speed = sett_speed_mm * 60 * 60 / 1000  # m/hr\n",
    "viral_deact_rate = max_viral_deact_rate * relative_humidity\n",
    "fresh_rate = room_vol * air_exch_rate / 60\n",
    "recirc_rate = fresh_rate * (1/primary_outdoor_air_fraction - 1)\n",
    "air_filt_rate = aerosol_filtration_eff[1] * recirc_rate * 60 / room_vol #have to specify which filtration we have\n",
    "conc_relax_rate = air_exch_rate + air_filt_rate + viral_deact_rate + sett_speed / mean_ceiling_height_m\n",
    "airb_trans_rate = ((breathing_flow_rate * mask_passage_prob[1]) ** 2) * exhaled_air_inf / (room_vol_m * conc_relax_rate) #have to specify what kind of mask usage"
   ]
  },
  {
   "cell_type": "code",
   "execution_count": 125,
   "metadata": {},
   "outputs": [],
   "source": [
    "#Calculate maximum people allowed in the room given an exposure time (hours)\n",
    "#steady state model\n",
    "def calc_n_max_ss(exp_time): #exp time in hrs\n",
    "    #risk_tolerance = risk_tolerance  \n",
    "    n_max = 1 + risk_tolerance / (airb_trans_rate * exp_time)\n",
    "    return n_max\n",
    "\n",
    "#transient model\n",
    "def calc_n_max_t(exp_time): #exp time in hrs\n",
    "    risk_tolerance = risk_tolerance \n",
    "    n_max = 1 + (risk_tolerance * (1 + 1/(conc_relax_rate * exp_time)) / (airb_trans_rate * exp_time))\n",
    "    return n_max"
   ]
  },
  {
   "cell_type": "code",
   "execution_count": 126,
   "metadata": {},
   "outputs": [],
   "source": [
    "#Calculate maximum exposure time allowed given a capacity (# people):\n",
    "def calc_max_time(n_max):\n",
    "    #risk_tolerance = risk_tolerance\n",
    "\n",
    "    exp_time_ss = risk_tolerance / ((n_max - 1) * airb_trans_rate)  # hrs, steady-state\n",
    "    exp_time_trans = exp_time_ss * (1 + (1 + 4 / (conc_relax_rate * exp_time_ss)) ** 0.5) / 2  # hrs, transient\n",
    "    return exp_time_trans"
   ]
  },
  {
   "cell_type": "code",
   "execution_count": 128,
   "metadata": {},
   "outputs": [
    {
     "data": {
      "text/plain": [
       "13.80163686440887"
      ]
     },
     "execution_count": 128,
     "metadata": {},
     "output_type": "execute_result"
    }
   ],
   "source": [
    "calc_max_time(750)"
   ]
  }
 ],
 "metadata": {
  "kernelspec": {
   "display_name": "Python 3",
   "language": "python",
   "name": "python3"
  },
  "language_info": {
   "codemirror_mode": {
    "name": "ipython",
    "version": 3
   },
   "file_extension": ".py",
   "mimetype": "text/x-python",
   "name": "python",
   "nbconvert_exporter": "python",
   "pygments_lexer": "ipython3",
   "version": "3.6.2"
  }
 },
 "nbformat": 4,
 "nbformat_minor": 4
}
