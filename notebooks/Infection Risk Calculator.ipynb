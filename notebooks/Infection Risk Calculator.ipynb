{
 "cells": [
  {
   "cell_type": "markdown",
   "metadata": {},
   "source": [
    "In this notebook we will be going over how to calculate the risk of infection for indoor environments to familiarize ourselves with the parameters and functions. \n",
    "\n",
    "Our subject room will be Center Hall Room 101, a lecture hall at UC San Diego."
   ]
  },
  {
   "cell_type": "code",
   "execution_count": 80,
   "metadata": {},
   "outputs": [],
   "source": [
    "import random\n",
    "import numpy as np\n",
    "import matplotlib.pyplot as plt\n",
    "import scipy.stats as ss\n",
    "from scipy.stats import truncnorm\n",
    "import json\n",
    "from IPython.display import Image\n",
    "import pandas as pd\n",
    "\n",
    "\n",
    "\n",
    "MINUTES_IN_HOUR = 60\n",
    "SECONDS_IN_MINUTE = 60\n",
    "SECONDS_IN_HOUR = 3600\n",
    "FEET_IN_METER = 3.28084"
   ]
  },
  {
   "cell_type": "code",
   "execution_count": 54,
   "metadata": {},
   "outputs": [],
   "source": [
    "#User Parameters\n",
    "#Parameters that must be inputted by the User\n",
    "\n",
    "#Number of occupants\n",
    "#50 occupants is the reduced COVID-19 capacity.\n",
    "n_occupants = 50 \n",
    "#Speaker to Breathing Ratio (Default 1 to n for lecture with no discussion)\n",
    "speaker_to_breathing_ratio = 1/n_occupants\n",
    "\n",
    "#mask efficacy.\n",
    "mask = {'none': 0,\n",
    "                 'average': .7,\n",
    "                 'high': .95}\n",
    "mask_efficacy = mask['average']\n",
    "#Duration in seconds\n",
    "t = 1.25 * SECONDS_IN_HOUR\n",
    "#Active (Exercising or resting)\n",
    "activity = np.random.choice(['resting', 'light_exercise', 'moderate_exercise', 'heavy_exercise'])\n",
    "#Social Distancing\n",
    "social_distancing = True\n",
    "#infection rate\n",
    "#To calculate infection rate we will aggregate the past week of testing for our region, UC San Diego\n",
    "#Source https://returntolearn.ucsd.edu/dashboard/index.html\n",
    "infection_rate = (2 + 11 + 10+ 3 + 7 + 10 + 12 + 5)/(20 + 1385 + 1375 + 286 + 1332 + 1414 + 944 + 1244)\n",
    "\n",
    "#Age input. If not age is inputted an age distribution should be generated for the region. \n",
    "#Default age distribution is an empirical age distribution for a UCSD Classroom. \n",
    "    #Source: https://ir.ucsd.edu/_files/stats-data/profile/profile-2018-2019.pdf\n",
    "occupant_age = np.random.choice([18, 19, 20, 21, 22, 23, 24, random.randint(25, 30)], size = n_occupants, p = [.198, .195, .195, .1875, .09375, .046875, .023875, .06])\n",
    "\n"
   ]
  },
  {
   "cell_type": "code",
   "execution_count": 81,
   "metadata": {},
   "outputs": [],
   "source": [
    "#Building Parameters\n",
    "\n",
    "#Room Area in square ft.\n",
    "room_area = 3428\n",
    "#Room Height (Center 101 has a slopes downwards so we are calculating average for height) in ft.\n",
    "room_hght = (10 + 30) / 2 \n",
    "#Passive ventilation rate Standard: 0.35 Range: 0–1 Hour−1\n",
    "pass_vent_rate = .35\n",
    "#Active ventilation rate (with outside air) Standard: 2 Range: 2–9 Hour−1\n",
    "actv_vent_Rate = 2\n",
    "#CFM range\n",
    "#Source: \n",
    "cfm_table = pd.read_csv('data/CFM.csv')"
   ]
  },
  {
   "cell_type": "code",
   "execution_count": 82,
   "metadata": {},
   "outputs": [
    {
     "data": {
      "text/html": [
       "<div>\n",
       "<style scoped>\n",
       "    .dataframe tbody tr th:only-of-type {\n",
       "        vertical-align: middle;\n",
       "    }\n",
       "\n",
       "    .dataframe tbody tr th {\n",
       "        vertical-align: top;\n",
       "    }\n",
       "\n",
       "    .dataframe thead th {\n",
       "        text-align: right;\n",
       "    }\n",
       "</style>\n",
       "<table border=\"1\" class=\"dataframe\">\n",
       "  <thead>\n",
       "    <tr style=\"text-align: right;\">\n",
       "      <th></th>\n",
       "      <th>Room</th>\n",
       "      <th>Area (Sq Ft)</th>\n",
       "      <th>Capacity</th>\n",
       "      <th>C19 Occupancy</th>\n",
       "      <th>VAV</th>\n",
       "    </tr>\n",
       "  </thead>\n",
       "  <tbody>\n",
       "    <tr>\n",
       "      <th>0</th>\n",
       "      <td>CENTER 101</td>\n",
       "      <td>3428</td>\n",
       "      <td>295.0</td>\n",
       "      <td>50.0</td>\n",
       "      <td>3500-7000</td>\n",
       "    </tr>\n",
       "    <tr>\n",
       "      <th>1</th>\n",
       "      <td>CENTER 115</td>\n",
       "      <td>2143</td>\n",
       "      <td>196.0</td>\n",
       "      <td>31.0</td>\n",
       "      <td>1290-4300</td>\n",
       "    </tr>\n",
       "    <tr>\n",
       "      <th>2</th>\n",
       "      <td>CENTER 119</td>\n",
       "      <td>2144</td>\n",
       "      <td>196.0</td>\n",
       "      <td>30.0</td>\n",
       "      <td>1290-4300</td>\n",
       "    </tr>\n",
       "    <tr>\n",
       "      <th>3</th>\n",
       "      <td>GH 242</td>\n",
       "      <td>2956</td>\n",
       "      <td>417.0</td>\n",
       "      <td>50.0</td>\n",
       "      <td>935-2325</td>\n",
       "    </tr>\n",
       "    <tr>\n",
       "      <th>4</th>\n",
       "      <td>LEDDN AUD</td>\n",
       "      <td>1888</td>\n",
       "      <td>216.0</td>\n",
       "      <td>30.0</td>\n",
       "      <td>4000-12000</td>\n",
       "    </tr>\n",
       "    <tr>\n",
       "      <th>5</th>\n",
       "      <td>PCYNH 106</td>\n",
       "      <td>2010</td>\n",
       "      <td>192.0</td>\n",
       "      <td>34.0</td>\n",
       "      <td>450-1520</td>\n",
       "    </tr>\n",
       "    <tr>\n",
       "      <th>6</th>\n",
       "      <td>PETER 110</td>\n",
       "      <td>2933</td>\n",
       "      <td>328.0</td>\n",
       "      <td>47.0</td>\n",
       "      <td>NaN</td>\n",
       "    </tr>\n",
       "    <tr>\n",
       "      <th>7</th>\n",
       "      <td>TATA 3201</td>\n",
       "      <td>2093</td>\n",
       "      <td>171.0</td>\n",
       "      <td>25.0</td>\n",
       "      <td>1680-3200</td>\n",
       "    </tr>\n",
       "    <tr>\n",
       "      <th>8</th>\n",
       "      <td>TATA 2101</td>\n",
       "      <td>1274</td>\n",
       "      <td>NaN</td>\n",
       "      <td>9.0</td>\n",
       "      <td>430-960</td>\n",
       "    </tr>\n",
       "    <tr>\n",
       "      <th>9</th>\n",
       "      <td>TATA2102</td>\n",
       "      <td>1291</td>\n",
       "      <td>NaN</td>\n",
       "      <td>9.0</td>\n",
       "      <td>430-960</td>\n",
       "    </tr>\n",
       "    <tr>\n",
       "      <th>10</th>\n",
       "      <td>York 3306</td>\n",
       "      <td>1766</td>\n",
       "      <td>36.0</td>\n",
       "      <td>25.0</td>\n",
       "      <td>870-1300</td>\n",
       "    </tr>\n",
       "    <tr>\n",
       "      <th>11</th>\n",
       "      <td>York 3406</td>\n",
       "      <td>1720</td>\n",
       "      <td>28.0</td>\n",
       "      <td>20.0</td>\n",
       "      <td>1531-1531</td>\n",
       "    </tr>\n",
       "    <tr>\n",
       "      <th>12</th>\n",
       "      <td>York 4406</td>\n",
       "      <td>1691</td>\n",
       "      <td>32.0</td>\n",
       "      <td>19.0</td>\n",
       "      <td>1500-1500</td>\n",
       "    </tr>\n",
       "    <tr>\n",
       "      <th>13</th>\n",
       "      <td>TATA 4401</td>\n",
       "      <td>1238</td>\n",
       "      <td>NaN</td>\n",
       "      <td>NaN</td>\n",
       "      <td>NaN</td>\n",
       "    </tr>\n",
       "    <tr>\n",
       "      <th>14</th>\n",
       "      <td>TATA 5600</td>\n",
       "      <td>876</td>\n",
       "      <td>NaN</td>\n",
       "      <td>10.0</td>\n",
       "      <td>420-840</td>\n",
       "    </tr>\n",
       "  </tbody>\n",
       "</table>\n",
       "</div>"
      ],
      "text/plain": [
       "          Room  Area (Sq Ft)  Capacity  C19 Occupancy         VAV\n",
       "0   CENTER 101          3428     295.0           50.0   3500-7000\n",
       "1   CENTER 115          2143     196.0           31.0   1290-4300\n",
       "2   CENTER 119          2144     196.0           30.0   1290-4300\n",
       "3       GH 242          2956     417.0           50.0    935-2325\n",
       "4    LEDDN AUD          1888     216.0           30.0  4000-12000\n",
       "5    PCYNH 106          2010     192.0           34.0    450-1520\n",
       "6    PETER 110          2933     328.0           47.0         NaN\n",
       "7    TATA 3201          2093     171.0           25.0   1680-3200\n",
       "8    TATA 2101          1274       NaN            9.0     430-960\n",
       "9     TATA2102          1291       NaN            9.0     430-960\n",
       "10   York 3306          1766      36.0           25.0    870-1300\n",
       "11   York 3406          1720      28.0           20.0   1531-1531\n",
       "12   York 4406          1691      32.0           19.0   1500-1500\n",
       "13   TATA 4401          1238       NaN            NaN         NaN\n",
       "14   TATA 5600           876       NaN           10.0     420-840"
      ]
     },
     "execution_count": 82,
     "metadata": {},
     "output_type": "execute_result"
    }
   ],
   "source": [
    "cfm_table"
   ]
  },
  {
   "cell_type": "code",
   "execution_count": 4,
   "metadata": {},
   "outputs": [],
   "source": [
    "# Assumptions\n",
    "\n",
    "#Wet aerosol diameter Standard: 5 Range: 2–10 µm\n",
    "#Source:\n",
    "wet_asl_d = 5\n",
    "#Virus lifetime in aerosol Standard: 1.7 Range: 0.6–2.6 Hours\n",
    "#Source\n",
    "virus_life = 1.7\n",
    "#Viral load “highly infectious” Standard: 5 × 10^8 Range: 10^8–10^9 RNA Copies/cm3\n",
    "#Source:\n",
    "hi_viral_load = 5e8\n",
    "#Viral load “super infectious” Standard: 5 × 10^9 Range: 10^9–10^10 RNA Copies/cm3\n",
    "#source:\n",
    "si_viral_load = 5e9\n",
    "#Deposition probability in lungs Standard 0.5 Range: 0.2–0.8\n",
    "#Source:\n",
    "if social_distancing:\n",
    "    deposition_prob = .5\n",
    "#Infective dose (D50) Standard: 316 Range: 100–1000 RNA copies\n",
    "#Source:\n",
    "d50 = 316"
   ]
  },
  {
   "cell_type": "code",
   "execution_count": 59,
   "metadata": {},
   "outputs": [],
   "source": [
    "#Helper Functions\n",
    "\n",
    "#Used to generate values with normal distribution\n",
    "def get_truncated_normal(mean=0, sd=1, low=0, upp=10):\n",
    "    return truncnorm(\n",
    "        (low - mean) / sd, (upp - mean) / sd, loc=mean, scale=sd)\n",
    "\n",
    "def get_air_changes_per_hour(cfm, room_volume):\n",
    "    return (cfm * 60) / room_volume"
   ]
  },
  {
   "cell_type": "code",
   "execution_count": 77,
   "metadata": {},
   "outputs": [
    {
     "data": {
      "text/plain": [
       "3.0838473078846476"
      ]
     },
     "execution_count": 77,
     "metadata": {},
     "output_type": "execute_result"
    }
   ],
   "source": [
    "get_air_changes_per_hour(3700, 3428 *21)"
   ]
  },
  {
   "cell_type": "code",
   "execution_count": 75,
   "metadata": {},
   "outputs": [],
   "source": [
    "def generate_occupants(n_occupants, speaker_to_breathing_ratio, occupant_age = occupant_age, masks_efficacy = mask_efficacy):\n",
    "    occupants = {}\n",
    "    for i in range(n_occupants):\n",
    "        curr_occ = \"occ\" + str(i)\n",
    "        occupants[curr_occ] = {}\n",
    "        occupants[curr_occ]['age'] = occupant_age[i]\n",
    "        #Here we must change respiratory function to reflect exercise\n",
    "        #Normal breathing/speaking/singing concentrations\n",
    "        #Concentration from breathing Standard: 0.1 Range: 0.06–1.0 cm−3 Distribution: Normal\n",
    "        #Source:\n",
    "        normal_breathing = get_truncated_normal(mean=.1, sd=.02, low=.06, upp=1)\n",
    "        occupants[curr_occ]['conc_breathing'] = normal_breathing.rvs()\n",
    "        #Concentration from speaking (singing) Standard: 1.1 Range: 0.06–6.0 cm−3 Distribution: Normal\n",
    "        #Source:\n",
    "        normal_speaking = get_truncated_normal(mean=1.1, sd=.02, low=.06, upp=6)\n",
    "        occupants[curr_occ]['conc_speaking'] = normal_speaking.rvs()\n",
    "        #Respiratory rate standard: 10 Range: 5–20 L/min Distribution: Normal\n",
    "        #Source:\n",
    "        normal_respiratory_rate = get_truncated_normal(mean= 10, sd=5, low=5, upp=20)\n",
    "        occupants[curr_occ]['norm_resp_rate'] = normal_respiratory_rate.rvs()\n",
    "        occupants[curr_occ]['mask_efficacy'] = masks_efficacy\n",
    "        occupants[curr_occ]['testedWeekly'] = True\n",
    "    return occupants"
   ]
  },
  {
   "cell_type": "code",
   "execution_count": 61,
   "metadata": {},
   "outputs": [],
   "source": [
    "occupants = generate_occupants(n_occupants, speaker_to_breathing_ratio)"
   ]
  },
  {
   "cell_type": "code",
   "execution_count": 62,
   "metadata": {},
   "outputs": [
    {
     "data": {
      "text/plain": [
       "{'age': 18,\n",
       " 'conc_breathing': 0.08406741006982935,\n",
       " 'conc_speaking': 1.1109926345595535,\n",
       " 'norm_resp_rate': 9.549166847488413,\n",
       " 'mask_efficacy': 0.7,\n",
       " 'testedWeekly': True}"
      ]
     },
     "execution_count": 62,
     "metadata": {},
     "output_type": "execute_result"
    }
   ],
   "source": [
    "occupants['occ0']"
   ]
  },
  {
   "cell_type": "markdown",
   "metadata": {},
   "source": [
    "To calculate the risk of infection in a given room, the emmission rate of quanta is needed. A quantum is defined as the viral load i.e. the dose of airborne droplet nuclei required to cause infection in 63% of persons. \n",
    "The emmission rate is caclulated with the following formula"
   ]
  },
  {
   "cell_type": "code",
   "execution_count": 63,
   "metadata": {},
   "outputs": [
    {
     "data": {
      "image/png": "[encoded data removed]",
      "text/plain": [
       "<IPython.core.display.Image object>"
      ]
     },
     "execution_count": 63,
     "metadata": {},
     "output_type": "execute_result"
    }
   ],
   "source": [
    "#Formula for calulating Emission Rate \n",
    "#Source: https://doi.org/10.1016/j.envint.2020.105794\n",
    "Image(filename='images/formula.png') "
   ]
  },
  {
   "cell_type": "code",
   "execution_count": 64,
   "metadata": {},
   "outputs": [],
   "source": [
    "#Cv or viral load in sputum is in RNA copies per mL. \n",
    "#Source: \n",
    "viral_load_sptm = np.nan\n",
    "\n",
    "#Ci is a conversion factor defined as the ratio between one infectious quantum and the infectious dose expressed\n",
    "#in viral RNA copies\n",
    "#Source: \n",
    "ci = np.nan\n",
    "\n",
    "#Vbr is the volume of exhaled air per breath in cubic meters \n",
    "vol_exhale = occupants['occ0']['conc_speaking']\n",
    "\n",
    "#Nbr is the breathing rate in breaths per hour\n",
    "breath_rate = occupants['occ0']['norm_resp_rate']\n",
    "\n",
    "#Inhalation (IR) is the product of breathing rate (Nbr) and tidal volume (Vbr)\n",
    "#IR is a dependent on the activity of the infected subject. \n",
    "\n",
    "#Nd is the droplet number concentration in particles per cubic meter"
   ]
  },
  {
   "cell_type": "code",
   "execution_count": 65,
   "metadata": {},
   "outputs": [],
   "source": [
    "#Vd(D) is the volume of a single droplet as a function of droplet diameter\n",
    "#Source: https://doi.org/10.1016/j.jaerosci.2008.11.002\n",
    "droplet_diameters = data = {'talking':  \n",
    "                                                {'.8μm': .236, '1.8μm': .068, '3.5μm': .007, '5.5μm': .011},\n",
    "                            'whisper':\n",
    "                                                {'.8μm': .110, '1.8μm': .014, '3.5μm': .004, '5.5μm': .002},\n",
    "                            'singing':\n",
    "                                                {'.8μm': .751, '1.8μm': .139, '3.5μm': .139, '5.5μm': .059},\n",
    "                            'breathing':\n",
    "                                                {'.8μm': .084, '1.8μm': .009, '3.5μm': .003, '5.5μm': .002},  \n",
    "                           }\n",
    "\n"
   ]
  },
  {
   "cell_type": "code",
   "execution_count": 66,
   "metadata": {},
   "outputs": [],
   "source": [
    "#Average quanta emission rates averaged between men and women based on activity\n",
    "#Emission rates are given in cubic meters per hour\n",
    "#Source: https://ww2.arb.ca.gov/sites/default/files/classic//research/apr/past/a033-205.pdf\n",
    "quanta_emission = {'resting': .49,\n",
    "                   'standing': .54,\n",
    "                   'light_exercise': 1.38,\n",
    "                   'moderate_exercise': 2.35,\n",
    "                   'heavy_exercise': 3.30}"
   ]
  },
  {
   "cell_type": "code",
   "execution_count": 67,
   "metadata": {},
   "outputs": [
    {
     "data": {
      "image/png": "[encoded data removed]",
      "text/plain": [
       "<IPython.core.display.Image object>"
      ]
     },
     "execution_count": 67,
     "metadata": {},
     "output_type": "execute_result"
    }
   ],
   "source": [
    "#Formula for calulating quanta\n",
    "#Source: https://doi.org/10.1016/j.envint.2020.105794\n",
    "Image(filename='images/formula1.png')\n"
   ]
  },
  {
   "cell_type": "markdown",
   "metadata": {},
   "source": [
    "where IVRR (h−1) represents the infectious virus removal rate in the space investigated, n0 represents the initial number of quanta in the space, I is the number of infectious subjects, V is the volume of the indoor environment considered, and ERq is the abovementioned quanta emission rate (quanta h−1) characteristic of the specific disease/virus under investigation"
   ]
  },
  {
   "cell_type": "markdown",
   "metadata": {},
   "source": [
    "As of the current date the infection rate for UC San Diego students is 11 cases / 11 / 1,385 tests. That means the probability of any given student to be infected is 0.79%. If we assume our number of occupants to 21, our estimated number of infected occupants would be this would give 0.166. So when the n_occupants is too small to produce <= 1 using the infection rate, we will assume 1 infected occupant to estimate risk unless otherwise specified. "
   ]
  },
  {
   "cell_type": "code",
   "execution_count": 68,
   "metadata": {},
   "outputs": [],
   "source": [
    "n_infected = infection_rate * n_occupants\n",
    "if n_infected < 1:\n",
    "    n_infected = 1"
   ]
  },
  {
   "cell_type": "markdown",
   "metadata": {},
   "source": [
    "The infectious virus removal rate (IVRR) is the sum of three contributions (Yang and Marr, 2011): the air exchange rate (AER) via ventilation, the particle deposition on surfaces (k, e.g. via gravitational settling), and the viral inactivation (λ)."
   ]
  },
  {
   "cell_type": "code",
   "execution_count": 78,
   "metadata": {},
   "outputs": [
    {
     "name": "stdout",
     "output_type": "stream",
     "text": [
      "6.1260210035005835\n",
      "0.000328084\n",
      "2268.0\n",
      "2326.333661417333\n"
     ]
    }
   ],
   "source": [
    "#VAV cubic feet of air per minute (CFM) ranges frmo 3,500 - 7,000 in Center 101\n",
    "#Source Prof. Rajesh Gupta\n",
    "cfm = np.random.choice(cfm_range)\n",
    "air_change_rate_range = get_air_changes_per_hour(cfm, room_volume)\n",
    "print(air_change_rate_range)\n",
    "#Change units\n",
    "\n",
    "# Deposition rate is determined by the ratio of the settling velocity of the micrometric particles (1e-4 m/s) and \n",
    "#the height of the emmission source (average height of a person is 1.5 m)\n",
    "# Source https://doi.org/10.1016/j.culher.2019.02.017\n",
    "deposition_rate = 1e-4 * FEET_IN_METER\n",
    "print(deposition_rate)\n",
    "\n",
    "#Viral Inactivation refers to the amount of time the virus \"survives\" in aerosol\n",
    "#Source: https://www.nejm.org/doi/10.1056/NEJMc2004973\n",
    "#.63 inactivation per hour\n",
    "viral_inactivation = .63 * SECONDS_IN_HOUR\n",
    "print(viral_inactivation)\n",
    "\n",
    "#Infectious virus removal rate\n",
    "ivrr = air_change_rate + deposition_rate + viral_inactivation\n",
    "print(ivrr)\n",
    "#n0 represents the initial quanta in a space\n",
    "#TODO: Find initial quanta - Use zero as placeholder\n",
    "#Source: \n",
    "initial_quanta = 0\n",
    "\n",
    "#V is volume of room\n",
    "room_volume = room_area * room_hght\n"
   ]
  },
  {
   "cell_type": "code",
   "execution_count": 70,
   "metadata": {},
   "outputs": [
    {
     "data": {
      "text/plain": [
       "0.037714285714285714"
      ]
     },
     "execution_count": 70,
     "metadata": {},
     "output_type": "execute_result"
    }
   ],
   "source": [
    "2.2 / (3500 / 60)"
   ]
  },
  {
   "cell_type": "code",
   "execution_count": 71,
   "metadata": {},
   "outputs": [],
   "source": [
    "def quanta_concentration(I, ERq, IVRR, V, n0, t):\n",
    "    return float(((ERq * I) / (IVRR * V)) + (n0 + ((ERq * I) / IVRR)) * ((np.e **(-IVRR * t)) / V))"
   ]
  },
  {
   "cell_type": "code",
   "execution_count": 72,
   "metadata": {},
   "outputs": [
    {
     "data": {
      "text/plain": [
       "1.473414869908729e-08"
      ]
     },
     "execution_count": 72,
     "metadata": {},
     "output_type": "execute_result"
    }
   ],
   "source": [
    "quanta_concentration(n_infected, quanta_emission[activity], ivrr, room_volume, initial_quanta, t)"
   ]
  },
  {
   "cell_type": "code",
   "execution_count": 52,
   "metadata": {},
   "outputs": [
    {
     "data": {
      "image/png": "[encoded data removed]",
      "text/plain": [
       "<Figure size 432x288 with 1 Axes>"
      ]
     },
     "metadata": {
      "needs_background": "light"
     },
     "output_type": "display_data"
    }
   ],
   "source": [
    "fig = plt.figure()\n",
    "ax = plt.axes()\n",
    "\n",
    "\n",
    "f2 = np.vectorize(quanta_concentration) \n",
    "\n",
    "\n",
    "x = np.linspace(0, t)\n",
    "ax.plot(x, f2(n_infected, quanta_emission[activity], ivrr, room_volume, initial_quanta, x));"
   ]
  },
  {
   "cell_type": "code",
   "execution_count": 43,
   "metadata": {},
   "outputs": [
    {
     "data": {
      "text/plain": [
       "array([0.00000000e+00, 4.41598587e-03, 8.83197174e-03, ...,\n",
       "       1.99911680e+01, 1.99955840e+01, 2.00000000e+01])"
      ]
     },
     "execution_count": 43,
     "metadata": {},
     "output_type": "execute_result"
    }
   ],
   "source": [
    "time"
   ]
  },
  {
   "cell_type": "code",
   "execution_count": null,
   "metadata": {},
   "outputs": [],
   "source": []
  }
 ],
 "metadata": {
  "kernelspec": {
   "display_name": "Python 3",
   "language": "python",
   "name": "python3"
  },
  "language_info": {
   "codemirror_mode": {
    "name": "ipython",
    "version": 3
   },
   "file_extension": ".py",
   "mimetype": "text/x-python",
   "name": "python",
   "nbconvert_exporter": "python",
   "pygments_lexer": "ipython3",
   "version": "3.6.2"
  }
 },
 "nbformat": 4,
 "nbformat_minor": 4
}
