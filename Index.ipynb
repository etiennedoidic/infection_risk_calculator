{
 "cells": [
  {
   "cell_type": "code",
   "execution_count": 1,
   "metadata": {},
   "outputs": [],
   "source": [
    "from jupyter_dash import JupyterDash\n",
    "import dash"
   ]
  },
  {
   "cell_type": "code",
   "execution_count": 2,
   "metadata": {},
   "outputs": [],
   "source": [
    "import sys\n",
    "sys.path.insert(1,r'C:\\Users\\Etienne\\Desktop\\infection_risk_calculator-main\\src')\n",
    "rid_path = r'C:\\Users\\Etienne\\Desktop\\infection_risk_calculator-main\\data\\raw\\rm.csv'\n",
    "from calculator import *"
   ]
  },
  {
   "cell_type": "code",
   "execution_count": 3,
   "metadata": {},
   "outputs": [],
   "source": [
    "import dash_core_components as dcc\n",
    "import dash_html_components as html\n",
    "import pandas as pd"
   ]
  },
  {
   "cell_type": "code",
   "execution_count": 4,
   "metadata": {},
   "outputs": [],
   "source": [
    "external_stylesheets = ['https://codepen.io/chriddyp/pen/bWLwgP.css']\n",
    "app = JupyterDash(__name__, external_stylesheets=external_stylesheets)"
   ]
  },
  {
   "cell_type": "code",
   "execution_count": 5,
   "metadata": {},
   "outputs": [],
   "source": [
    "activities = [{'label':'Lecture', 'value':'Lecture'}, {'label':'Studying', 'value':'Studying'}, {'label':'Singing', 'value':'Singing'}, {'label':'Social Event', 'value':'Social Event'}, {'label':'Exercising', 'value':'Exercising'}]"
   ]
  },
  {
   "cell_type": "code",
   "execution_count": 6,
   "metadata": {},
   "outputs": [],
   "source": [
    "server = app.server"
   ]
  },
  {
   "cell_type": "code",
   "execution_count": 7,
   "metadata": {},
   "outputs": [],
   "source": [
    "app.layout = html.Div([\n",
    "    html.H6(\"Event Information\"),\n",
    "    #MAKE ROOM ID A DROP DOWN?\n",
    "    html.Div([\"RoomID: \",\n",
    "              dcc.Input(id='room-input', value='', type='text')]),\n",
    "    html.Br(),\n",
    "    html.Div([\"Duration of Event (min): \",\n",
    "              dcc.Input(id='time-input', value = 0, type='number')]),\n",
    "    html.Br(),\n",
    "    html.Div([\"Number of Occupants: \",\n",
    "              dcc.Input(id='occupant-input', value = 0, type='number')]),\n",
    "    html.Br(),\n",
    "    html.Div([\"Activity: \",\n",
    "              dcc.Dropdown(id='activity-dropdown', value ='test', options=activities)]),\n",
    "#     html.Br(),\n",
    "#     html.Button('Reset', id='reset-button'),\n",
    "    html.Br(),\n",
    "    html.Button('Go', id = 'go-button', n_clicks = 0),\n",
    "    html.Br(),\n",
    "    html.Div(id = 'calc-output', children = 'Enter values to calculate risk')\n",
    "\n",
    "])"
   ]
  },
  {
   "cell_type": "code",
   "execution_count": 8,
   "metadata": {},
   "outputs": [],
   "source": [
    "@app.callback(\n",
    "    dash.dependencies.Output('calc-output', 'children'),\n",
    "    [dash.dependencies.Input('go-button', 'n_clicks')],\n",
    "    [dash.dependencies.Input('activity-dropdown', 'value')],\n",
    "    [dash.dependencies.State('room-input', 'value')],\n",
    "    [dash.dependencies.State('time-input', 'value')],\n",
    "    [dash.dependencies.State('occupant-input', 'value')]\n",
    ")\n",
    "def update_calc(n_clicks, activity_dropdown, room_input, time_input, occupant_input):\n",
    "    if n_clicks >= 1:\n",
    "        #Given the user inputted activity we must assume inhalation rate and expiratory activities in \n",
    "        #order to accurately provide a quantum emmission rate.\n",
    "        if activity_dropdown == 'Lecture':\n",
    "            #Simulate lecture with average of resting/whispering and speaking/standing\n",
    "            #perhaps make this information available to users by providing  a drop down that allows user to \n",
    "            #choose ratio of two actions/exp_actions during the events\n",
    "            act1 = 'resting'\n",
    "            act2 = 'standing'\n",
    "            #The expiratory action is assumed to be \n",
    "            exp_act1 = 'whispering'\n",
    "            exp_act2 = 'speaking'\n",
    "            ir1 = infection_risk(time_input, room_input, occupant_input, act1, exp_act1, rid_path)\n",
    "            ir2 = infection_risk(time_input, room_input, occupant_input, act2, exp_act2, rid_path)\n",
    "            total_ir  = (ir1 + ir2) / 2\n",
    "        if activity_dropdown == 'Studying':\n",
    "            #Simulate studying with average of resting/whispering and speaking/standing\n",
    "            act1 = 'resting'\n",
    "            act2 = 'standing'\n",
    "            exp_act1 = 'speaking'\n",
    "            exp_act2 = 'whispering'\n",
    "            ir1 = infection_risk(time_input, room_input, occupant_input, act1, exp_act1, rid_path)\n",
    "            ir2 = infection_risk(time_input, room_input, occupant_input, act2, exp_act2, rid_path)\n",
    "            total_ir  = (ir1 + ir2) / 2\n",
    "        if activity_dropdown == 'Singing':\n",
    "            #Simulate singing by assuming occupants are singing and standing\n",
    "            act1 = 'standing'\n",
    "            exp_act1 = 'singing'\n",
    "            total_ir = infection_risk(time_input, room_input, occupant_input, act1, exp_act1, rid_path)\n",
    "        if activity_dropdown == 'Social Event':\n",
    "            #Simulate singing by assuming occupants are doing light exercise and talking\n",
    "            act1 = 'light_exercise'\n",
    "            exp_act1 = 'speaking'\n",
    "            total_ir = infection_risk(time_input, room_input, occupant_input, act1, exp_act1, rid_path)\n",
    "        if activity_dropdown == 'Exercising':\n",
    "            #Simulate singing by assuming occupants are doing heavy exercise and talking\n",
    "            act1 = 'heavy_exercise'\n",
    "            exp_act1 = 'speaking'\n",
    "            total_ir = infection_risk(time_input, room_input, occupant_input, act1, exp_act1, rid_path)\n",
    "            \n",
    "        return 'The risk of holding a {} event for {} minutes in {} is {}'.format(activity_dropdown, time_input, room_input, total_ir) #the actual will be: calc.infection_risk()\n",
    "    else:\n",
    "        return 'Enter Values to get risk calculation'"
   ]
  },
  {
   "cell_type": "code",
   "execution_count": 9,
   "metadata": {},
   "outputs": [
    {
     "name": "stdout",
     "output_type": "stream",
     "text": [
      "Dash app running on http://127.0.0.1:8050/\n",
      "The resulting risk of infection is 0.9047942058610037%\n",
      "It is predicted that 0.009047942058610037 x 30 = 0 susceptible occupants will be infected\n",
      "The resulting risk of infection is 15.515801998509515%\n",
      "It is predicted that 0.15515801998509515 x 30 = 4 susceptible occupants will be infected\n",
      "The resulting risk of infection is 25.3009196524827%\n",
      "It is predicted that 0.253009196524827 x 30 = 7 susceptible occupants will be infected\n",
      "The resulting risk of infection is 25.3009196524827%\n",
      "It is predicted that 0.253009196524827 x 30 = 7 susceptible occupants will be infected\n"
     ]
    }
   ],
   "source": [
    "app.run_server()"
   ]
  },
  {
   "cell_type": "code",
   "execution_count": null,
   "metadata": {},
   "outputs": [],
   "source": []
  },
  {
   "cell_type": "code",
   "execution_count": null,
   "metadata": {},
   "outputs": [],
   "source": []
  }
 ],
 "metadata": {
  "kernelspec": {
   "display_name": "Python 3",
   "language": "python",
   "name": "python3"
  },
  "language_info": {
   "codemirror_mode": {
    "name": "ipython",
    "version": 3
   },
   "file_extension": ".py",
   "mimetype": "text/x-python",
   "name": "python",
   "nbconvert_exporter": "python",
   "pygments_lexer": "ipython3",
   "version": "3.8.5"
  }
 },
 "nbformat": 4,
 "nbformat_minor": 4
}
